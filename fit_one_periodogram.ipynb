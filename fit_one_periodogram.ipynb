{
 "cells": [
  {
   "cell_type": "markdown",
   "id": "4e022ffd",
   "metadata": {},
   "source": [
    "## Imports"
   ]
  },
  {
   "cell_type": "code",
   "execution_count": null,
   "id": "29ce5973",
   "metadata": {},
   "outputs": [],
   "source": [
    "from tqdm import tqdm\n",
    "\n",
    "import numpy as np\n",
    "from matplotlib import pyplot as plt\n",
    "import pandas as pd\n",
    "from scipy.stats import sigmaclip, spearmanr\n",
    "from scipy.signal import argrelextrema\n",
    "from scipy.stats import median_abs_deviation\n",
    "\n",
    "from astropy.timeseries import LombScargle\n",
    "from astropy.convolution import Gaussian1DKernel, convolve\n",
    "\n",
    "from src.fit_periodograms import fit_one_periodogram"
   ]
  },
  {
   "cell_type": "markdown",
   "id": "217e57da",
   "metadata": {},
   "source": [
    "## Load Lines and Data"
   ]
  },
  {
   "cell_type": "code",
   "execution_count": null,
   "id": "35ddc72c",
   "metadata": {},
   "outputs": [],
   "source": [
    "# Define lines and time array\n",
    "file_csv = 'results/lines_norm_gdl_fit.csv'\n",
    "df = pd.read_csv(file_csv, index_col=0).sort_values(by='spec_mjd')\n",
    "lines_path = 'data/hydroxyl_lines_rousselot_2000.txt'\n",
    "lines_vac, lines_air = np.loadtxt(lines_path).T\n",
    "lines = lines_vac.astype(str)\n",
    "time_centered = df['spec_mjd'].values - int(df['spec_mjd'].min())"
   ]
  },
  {
   "cell_type": "code",
   "execution_count": null,
   "id": "08a7f7f4",
   "metadata": {},
   "outputs": [],
   "source": [
    "# Define masks without star passing (3 day periods of night observations)\n",
    "mask1_1 = (time_centered > 504) & (time_centered < 504.5)\n",
    "mask1_2 = (time_centered > 504.58) & (time_centered < 505.515)\n",
    "mask1_3 = (time_centered > 505.58) & (time_centered < 506.578)\n",
    "mask1_4 = (time_centered > 506.61) & (time_centered < 507)\n",
    "mask1 = mask1_1 | mask1_2 | mask1_3 | mask1_4 #32%\n",
    "mask2 = (time_centered > 543) & (time_centered < 547) #35%"
   ]
  },
  {
   "cell_type": "markdown",
   "id": "7f462502",
   "metadata": {},
   "source": [
    "## Fit One Periodogram"
   ]
  },
  {
   "cell_type": "code",
   "execution_count": null,
   "id": "165351b0",
   "metadata": {},
   "outputs": [],
   "source": [
    "line = df.columns[-1].split('_')[0]"
   ]
  },
  {
   "cell_type": "code",
   "execution_count": null,
   "id": "541781ea",
   "metadata": {
    "scrolled": true
   },
   "outputs": [],
   "source": [
    "row_entry = fit_one_periodogram(line, mask1, time_centered, df, n=5, order_power=True, plot=True)"
   ]
  },
  {
   "cell_type": "code",
   "execution_count": null,
   "id": "2128dc2c",
   "metadata": {},
   "outputs": [],
   "source": []
  }
 ],
 "metadata": {
  "kernelspec": {
   "display_name": "Python 3 (ipykernel)",
   "language": "python",
   "name": "python3"
  },
  "language_info": {
   "codemirror_mode": {
    "name": "ipython",
    "version": 3
   },
   "file_extension": ".py",
   "mimetype": "text/x-python",
   "name": "python",
   "nbconvert_exporter": "python",
   "pygments_lexer": "ipython3",
   "version": "3.9.12"
  }
 },
 "nbformat": 4,
 "nbformat_minor": 5
}
