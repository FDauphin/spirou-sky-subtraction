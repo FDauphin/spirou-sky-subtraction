{
 "cells": [
  {
   "cell_type": "markdown",
   "metadata": {},
   "source": [
    "## Imports"
   ]
  },
  {
   "cell_type": "code",
   "execution_count": null,
   "metadata": {},
   "outputs": [],
   "source": [
    "import os\n",
    "from glob import glob\n",
    "from tqdm import tqdm\n",
    "\n",
    "import numpy as np\n",
    "from matplotlib import pyplot as plt\n",
    "import pandas as pd\n",
    "from scipy.integrate import simpson\n",
    "from scipy.optimize import curve_fit\n",
    "from scipy.signal import argrelextrema\n",
    "from scipy.stats import spearmanr, median_abs_deviation\n",
    "\n",
    "from astropy.io import fits\n",
    "from astropy.convolution import convolve, Gaussian1DKernel\n",
    "from astropy.stats import sigma_clipped_stats\n",
    "\n",
    "%matplotlib inline"
   ]
  },
  {
   "cell_type": "code",
   "execution_count": null,
   "metadata": {},
   "outputs": [],
   "source": [
    "plt.rcParams.update({'font.size': 20})"
   ]
  },
  {
   "cell_type": "markdown",
   "metadata": {},
   "source": [
    "## Load Lines and Data"
   ]
  },
  {
   "cell_type": "code",
   "execution_count": null,
   "metadata": {},
   "outputs": [],
   "source": [
    "data_path = '../data'\n",
    "lines_vac, lines_air = np.loadtxt(f'{data_path}/hydroxyl_lines_rousselot_2000.txt').T"
   ]
  },
  {
   "cell_type": "code",
   "execution_count": null,
   "metadata": {},
   "outputs": [],
   "source": [
    "results_path = '../results'\n",
    "df = pd.read_csv(f'{results_path}/lines_norm_gdl_fit.csv', index_col=0)\n",
    "columns = df.columns"
   ]
  },
  {
   "cell_type": "code",
   "execution_count": null,
   "metadata": {},
   "outputs": [],
   "source": [
    "col_sub = []\n",
    "for column in columns[9:28]:\n",
    "    if 'sigma1_cov' in column or 'sigma2_cov' in column:\n",
    "        col_sub.append(column[9:])\n",
    "    else:\n",
    "        col_sub.append(column.split('_')[1])"
   ]
  },
  {
   "cell_type": "code",
   "execution_count": null,
   "metadata": {},
   "outputs": [],
   "source": [
    "col_sub = np.array(col_sub)"
   ]
  },
  {
   "cell_type": "code",
   "execution_count": null,
   "metadata": {},
   "outputs": [],
   "source": [
    "col_sub"
   ]
  },
  {
   "cell_type": "code",
   "execution_count": null,
   "metadata": {},
   "outputs": [],
   "source": [
    "time_centered = df['spec_mjd'] - int(df['spec_mjd'].min())"
   ]
  },
  {
   "cell_type": "code",
   "execution_count": null,
   "metadata": {},
   "outputs": [],
   "source": [
    "mask1_1 = (time_centered > 504) & (time_centered < 504.5)\n",
    "mask1_2 = (time_centered > 504.58) & (time_centered < 505.515)\n",
    "mask1_3 = (time_centered > 505.58) & (time_centered < 506.578)\n",
    "mask1_4 = (time_centered > 506.61) & (time_centered < 507)\n",
    "mask1 = mask1_1 | mask1_2 | mask1_3 | mask1_4\n",
    "mask2 = (time_centered > 543) & (time_centered < 547)"
   ]
  },
  {
   "cell_type": "code",
   "execution_count": null,
   "metadata": {},
   "outputs": [],
   "source": [
    "def measure_short_time_variability(df, lines_vac, mask, index):\n",
    "    \n",
    "    stats = []\n",
    "    for line in lines_vac: \n",
    "        line_column = str(line) + '_sum'\n",
    "        flux = df[line_column].values[mask]\n",
    "        diff = (flux[1:flux.shape[0]:index] - flux[0:-1:index])\n",
    "        diff_mean = np.nanmean(diff)\n",
    "        diff_std = np.nanstd(diff)\n",
    "        diff_med = np.nanmedian(diff)\n",
    "        diff_mad = median_abs_deviation(diff, nan_policy='omit')\n",
    "        stats.append([diff_mean, diff_std, diff_med, diff_mad])\n",
    "    \n",
    "    return np.array(stats)"
   ]
  },
  {
   "cell_type": "code",
   "execution_count": null,
   "metadata": {},
   "outputs": [],
   "source": [
    "stats_5_1 = measure_short_time_variability(df, lines_vac, mask1, 1)\n",
    "stats_5_2 = measure_short_time_variability(df, lines_vac, mask2, 1)\n",
    "stats_10_1 = measure_short_time_variability(df, lines_vac, mask1, 2)\n",
    "stats_10_2 = measure_short_time_variability(df, lines_vac, mask2, 2)\n",
    "stats_25_1 = measure_short_time_variability(df, lines_vac, mask1, 5)\n",
    "stats_25_2 = measure_short_time_variability(df, lines_vac, mask2, 5)"
   ]
  },
  {
   "cell_type": "code",
   "execution_count": null,
   "metadata": {},
   "outputs": [],
   "source": [
    "fs = 45\n",
    "plt.figure(figsize=[30,10])\n",
    "plt.grid(linewidth=2)\n",
    "plt.title('SPIRou Sky: 5 Minute Variability', fontsize=fs)\n",
    "plt.errorbar(lines_vac/10000, stats_5_1[:, 0]+50, stats_5_1[:, 1], fmt='C5o', label='Event 1')\n",
    "plt.errorbar(lines_vac/10000, stats_5_2[:, 0]-50, stats_5_2[:, 1], fmt='C7o', label='Event 2')\n",
    "plt.xlabel('Wavelength ($\\mu$m)', fontsize=fs)\n",
    "plt.ylabel('Relative Flux', fontsize=fs)\n",
    "plt.tick_params(labelsize=fs)\n",
    "plt.legend(fontsize=fs)"
   ]
  },
  {
   "cell_type": "code",
   "execution_count": null,
   "metadata": {},
   "outputs": [],
   "source": [
    "fs = 45\n",
    "plt.figure(figsize=[30,10])\n",
    "plt.grid(linewidth=2)\n",
    "plt.title('SPIRou Sky: 10 Minute Variability', fontsize=fs)\n",
    "plt.errorbar(lines_vac/10000, stats_10_1[:, 0]+50, stats_10_1[:, 1], fmt='C5o', label='Event 1')\n",
    "plt.errorbar(lines_vac/10000, stats_10_2[:, 0]-50, stats_10_2[:, 1], fmt='C7o', label='Event 2')\n",
    "plt.xlabel('Wavelength ($\\mu$m)', fontsize=fs)\n",
    "plt.ylabel('Relative Flux', fontsize=fs)\n",
    "plt.tick_params(labelsize=fs)\n",
    "plt.legend(fontsize=fs)"
   ]
  },
  {
   "cell_type": "code",
   "execution_count": null,
   "metadata": {},
   "outputs": [],
   "source": [
    "fs = 45\n",
    "plt.figure(figsize=[30,10])\n",
    "plt.grid(linewidth=2)\n",
    "plt.title('SPIRou Sky: 10 Minute Variability', fontsize=fs)\n",
    "plt.scatter(lines_vac/10000, stats_10_1[:, 0]+2.5, color='C5', label='Event 1')\n",
    "plt.scatter(lines_vac/10000, stats_10_2[:, 0]-2.5, color='C7', label='Event 2')\n",
    "plt.xlabel('Wavelength ($\\mu$m)', fontsize=fs)\n",
    "plt.ylabel('Relative Flux', fontsize=fs)\n",
    "plt.tick_params(labelsize=fs)\n",
    "plt.legend(fontsize=fs)"
   ]
  },
  {
   "cell_type": "code",
   "execution_count": null,
   "metadata": {},
   "outputs": [],
   "source": [
    "fs = 45\n",
    "plt.figure(figsize=[30,10])\n",
    "plt.grid(linewidth=2)\n",
    "plt.title('SPIRou Sky: 5 Minute Variability', fontsize=fs)\n",
    "plt.scatter(lines_vac/10000, stats_5_1[:, 0]+0.1, color='C5', label='Event 1')\n",
    "plt.scatter(lines_vac/10000, stats_5_2[:, 0]-0.1, color='C7', label='Event 2')\n",
    "plt.xlabel('Wavelength ($\\mu$m)', fontsize=fs)\n",
    "plt.ylabel('Relative Flux', fontsize=fs)\n",
    "plt.tick_params(labelsize=fs)\n",
    "plt.legend(fontsize=fs)"
   ]
  },
  {
   "cell_type": "code",
   "execution_count": null,
   "metadata": {},
   "outputs": [],
   "source": []
  }
 ],
 "metadata": {
  "kernelspec": {
   "display_name": "Python 3 (ipykernel)",
   "language": "python",
   "name": "python3"
  },
  "language_info": {
   "codemirror_mode": {
    "name": "ipython",
    "version": 3
   },
   "file_extension": ".py",
   "mimetype": "text/x-python",
   "name": "python",
   "nbconvert_exporter": "python",
   "pygments_lexer": "ipython3",
   "version": "3.9.12"
  }
 },
 "nbformat": 4,
 "nbformat_minor": 2
}
