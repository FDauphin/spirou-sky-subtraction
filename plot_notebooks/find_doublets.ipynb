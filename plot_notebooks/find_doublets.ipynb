{
 "cells": [
  {
   "cell_type": "markdown",
   "metadata": {},
   "source": [
    "## Imports"
   ]
  },
  {
   "cell_type": "code",
   "execution_count": null,
   "metadata": {},
   "outputs": [],
   "source": [
    "import os\n",
    "from glob import glob\n",
    "from tqdm import tqdm\n",
    "\n",
    "import numpy as np\n",
    "from matplotlib import pyplot as plt\n",
    "import pandas as pd\n",
    "from scipy.integrate import simpson\n",
    "from scipy.optimize import curve_fit\n",
    "from scipy.signal import argrelextrema\n",
    "from scipy.stats import spearmanr, median_abs_deviation, sigmaclip\n",
    "\n",
    "from astropy.io import fits\n",
    "from astropy.convolution import convolve, Gaussian1DKernel\n",
    "from sklearn.neighbors import KernelDensity\n",
    "\n",
    "%matplotlib inline"
   ]
  },
  {
   "cell_type": "code",
   "execution_count": null,
   "metadata": {},
   "outputs": [],
   "source": [
    "plt.rcParams.update({'font.size': 20})"
   ]
  },
  {
   "cell_type": "markdown",
   "metadata": {},
   "source": [
    "## Load Lines and Data"
   ]
  },
  {
   "cell_type": "code",
   "execution_count": null,
   "metadata": {},
   "outputs": [],
   "source": [
    "data_path = '../data'\n",
    "lines_vac, lines_air = np.loadtxt(f'{data_path}/hydroxyl_lines_rousselot_2000.txt').T"
   ]
  },
  {
   "cell_type": "code",
   "execution_count": null,
   "metadata": {},
   "outputs": [],
   "source": [
    "results_path = '../results'\n",
    "df = pd.read_csv(f'{results_path}/lines_norm_gdl_fit.csv', index_col=0)\n",
    "columns = df.columns"
   ]
  },
  {
   "cell_type": "code",
   "execution_count": null,
   "metadata": {},
   "outputs": [],
   "source": [
    "time_centered = df['spec_mjd'] - int(df['spec_mjd'].min())"
   ]
  },
  {
   "cell_type": "code",
   "execution_count": null,
   "metadata": {},
   "outputs": [],
   "source": [
    "mask1_1 = (time_centered > 504) & (time_centered < 504.5)\n",
    "mask1_2 = (time_centered > 504.58) & (time_centered < 505.515)\n",
    "mask1_3 = (time_centered > 505.58) & (time_centered < 506.578)\n",
    "mask1_4 = (time_centered > 506.61) & (time_centered < 507)\n",
    "mask1 = mask1_1 | mask1_2 | mask1_3 | mask1_4 #32%\n",
    "mask2 = (time_centered > 543) & (time_centered < 547)"
   ]
  },
  {
   "cell_type": "markdown",
   "metadata": {},
   "source": [
    "## Doublet Mus"
   ]
  },
  {
   "cell_type": "code",
   "execution_count": null,
   "metadata": {
    "scrolled": true
   },
   "outputs": [],
   "source": [
    "mu_est_lst = []\n",
    "doublet_metric = []\n",
    "for i, line in tqdm(enumerate(lines_vac), total=lines_vac.shape[0]):\n",
    "    mu1 = df[f'{line}_mu1'].values\n",
    "    mu2 = df[f'{line}_mu2'].values\n",
    "    mu = np.concatenate((mu1, mu2))\n",
    "\n",
    "    mask_nan = ~np.isnan(mu)\n",
    "    mu_kde = mu[mask_nan].reshape(-1,1)\n",
    "    kde = KernelDensity(bandwidth=0.05).fit(mu_kde)\n",
    "    mu_lin = np.linspace(np.nanmin(mu), np.nanmax(mu), 1000).reshape(-1, 1)\n",
    "    dens = np.exp(kde.score_samples(mu_lin)).flatten()\n",
    "    argx = argrelextrema(dens, np.greater)\n",
    "    mu_est_cand = np.sort(dens[argx])[::-1][:2]\n",
    "    mask_mu = np.isin(dens, mu_est_cand)\n",
    "    mu_est = mu_lin[mask_mu]\n",
    "    mu_est_lst.append(mu_est[:, 0])\n",
    "    \n",
    "    if False:\n",
    "        plt.title(f'{line}')\n",
    "        c, b, i = plt.hist(mu-line, alpha=0.5, bins=200)\n",
    "        plt.plot(mu_lin-line, dens/dens.max()*c.max(), color='C0', alpha=0.5)\n",
    "        plt.vlines(mu_est[0]-line, 0, c.max(), color='C2', linestyle='--', label=round(mu_est[0][0]-line, 3))\n",
    "        plt.vlines(mu_est[1]-line, 0, c.max(), color='C2', linestyle='--', label=round(mu_est[1][0]-line, 3))\n",
    "        plt.vlines(0, 0, c.max(), color='C1', linestyle=':')\n",
    "        plt.legend(fontsize=10)\n",
    "        plt.show()\n",
    "    \n",
    "    metric1 = np.abs((mu_est-line).sum())\n",
    "    metric2 = dens[mask_mu][0] / dens[mask_mu][1]\n",
    "    doublet_metric.append([metric1, metric2])"
   ]
  },
  {
   "cell_type": "code",
   "execution_count": null,
   "metadata": {},
   "outputs": [],
   "source": [
    "doublet_metric = np.array(doublet_metric)"
   ]
  },
  {
   "cell_type": "code",
   "execution_count": null,
   "metadata": {},
   "outputs": [],
   "source": [
    "#.5 .1, .3 .05, .15 .025, .05 .01\n",
    "thresh = 1.3\n",
    "mask_metric1 = doublet_metric[:, 0] < 0.05\n",
    "mask_metric2 = (doublet_metric[:, 1] > 1/thresh) & (doublet_metric[:, 1] < thresh)\n",
    "mask_metric = mask_metric1 & mask_metric2"
   ]
  },
  {
   "cell_type": "code",
   "execution_count": null,
   "metadata": {},
   "outputs": [],
   "source": [
    "mask_metric.sum()"
   ]
  },
  {
   "cell_type": "markdown",
   "metadata": {},
   "source": [
    "## Sigma"
   ]
  },
  {
   "cell_type": "code",
   "execution_count": null,
   "metadata": {
    "scrolled": true
   },
   "outputs": [],
   "source": [
    "sigma_est_lst = []\n",
    "for i, line in enumerate(lines_vac):\n",
    "    sigma1 = df[f'{line}_sigma1'].values\n",
    "    sigma2 = df[f'{line}_sigma2'].values\n",
    "    sigma = np.concatenate((sigma1, sigma2))\n",
    "    sigma_est_lst.append([np.nanmedian(sigma), median_abs_deviation(sigma, nan_policy='omit')])"
   ]
  },
  {
   "cell_type": "code",
   "execution_count": null,
   "metadata": {},
   "outputs": [],
   "source": [
    "sigma_est_lst = np.array(sigma_est_lst)"
   ]
  },
  {
   "cell_type": "code",
   "execution_count": null,
   "metadata": {},
   "outputs": [],
   "source": [
    "plt.figure(figsize=[30,10])\n",
    "plt.errorbar(lines_vac/10000, sigma_est_lst[:, 0], sigma_est_lst[:, 1])\n",
    "plt.xlabel('Wavelength ($\\mathring{A}$)')\n",
    "plt.ylabel('$\\sigma$')"
   ]
  },
  {
   "cell_type": "code",
   "execution_count": null,
   "metadata": {},
   "outputs": [],
   "source": [
    "plt.figure(figsize=[30,10])\n",
    "plt.scatter(lines_vac/10000, sigma_est_lst[:, 1])\n",
    "plt.xlabel('Wavelength ($\\mathring{A}$)')\n",
    "plt.ylabel('Errot bar Log($\\sigma$)')"
   ]
  },
  {
   "cell_type": "code",
   "execution_count": null,
   "metadata": {},
   "outputs": [],
   "source": [
    "sigma_est_lst[:10, 0].mean()"
   ]
  },
  {
   "cell_type": "code",
   "execution_count": null,
   "metadata": {},
   "outputs": [],
   "source": [
    "sigma_est_lst[-10:, 0].mean()"
   ]
  },
  {
   "cell_type": "code",
   "execution_count": null,
   "metadata": {},
   "outputs": [],
   "source": [
    "(sigma_est_lst[:10, 1]**2).mean()**0.5"
   ]
  },
  {
   "cell_type": "code",
   "execution_count": null,
   "metadata": {},
   "outputs": [],
   "source": [
    "(sigma_est_lst[-10:, 1]**2).mean()**0.5"
   ]
  },
  {
   "cell_type": "code",
   "execution_count": null,
   "metadata": {},
   "outputs": [],
   "source": [
    "spearmanr(lines_vac, sigma_est_lst[:, 0])"
   ]
  },
  {
   "cell_type": "code",
   "execution_count": null,
   "metadata": {},
   "outputs": [],
   "source": [
    "spearmanr(lines_vac, sigma_est_lst[:, 1])"
   ]
  },
  {
   "cell_type": "code",
   "execution_count": null,
   "metadata": {},
   "outputs": [],
   "source": []
  }
 ],
 "metadata": {
  "kernelspec": {
   "display_name": "Python 3 (ipykernel)",
   "language": "python",
   "name": "python3"
  },
  "language_info": {
   "codemirror_mode": {
    "name": "ipython",
    "version": 3
   },
   "file_extension": ".py",
   "mimetype": "text/x-python",
   "name": "python",
   "nbconvert_exporter": "python",
   "pygments_lexer": "ipython3",
   "version": "3.9.12"
  }
 },
 "nbformat": 4,
 "nbformat_minor": 2
}
