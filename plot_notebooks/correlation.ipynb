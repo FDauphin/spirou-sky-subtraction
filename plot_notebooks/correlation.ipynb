{
 "cells": [
  {
   "cell_type": "markdown",
   "metadata": {},
   "source": [
    "## Imports"
   ]
  },
  {
   "cell_type": "code",
   "execution_count": null,
   "metadata": {},
   "outputs": [],
   "source": [
    "import os\n",
    "from glob import glob\n",
    "from tqdm import tqdm\n",
    "\n",
    "import numpy as np\n",
    "from matplotlib import pyplot as plt\n",
    "import pandas as pd\n",
    "from scipy.integrate import simpson\n",
    "from scipy.optimize import curve_fit\n",
    "from scipy.signal import argrelextrema\n",
    "from scipy.stats import spearmanr, median_abs_deviation, sigmaclip\n",
    "\n",
    "from astropy.io import fits\n",
    "from astropy.convolution import convolve, Gaussian1DKernel\n",
    "\n",
    "%matplotlib inline"
   ]
  },
  {
   "cell_type": "code",
   "execution_count": null,
   "metadata": {},
   "outputs": [],
   "source": [
    "plt.rcParams.update({'font.size': 20})"
   ]
  },
  {
   "cell_type": "markdown",
   "metadata": {},
   "source": [
    "## Load Lines and Data"
   ]
  },
  {
   "cell_type": "code",
   "execution_count": null,
   "metadata": {},
   "outputs": [],
   "source": [
    "data_path = '../data'\n",
    "lines_vac, lines_air = np.loadtxt(f'{data_path}/hydroxyl_lines_rousselot_2000.txt').T"
   ]
  },
  {
   "cell_type": "code",
   "execution_count": null,
   "metadata": {},
   "outputs": [],
   "source": [
    "results_path = '../results'\n",
    "df = pd.read_csv(f'{results_path}/lines_norm_gdl_fit.csv', index_col=0)\n",
    "columns = df.columns"
   ]
  },
  {
   "cell_type": "code",
   "execution_count": null,
   "metadata": {},
   "outputs": [],
   "source": [
    "time_centered = df['spec_mjd'] - int(df['spec_mjd'].min())"
   ]
  },
  {
   "cell_type": "code",
   "execution_count": null,
   "metadata": {},
   "outputs": [],
   "source": [
    "mask1_1 = (time_centered > 504) & (time_centered < 504.5)\n",
    "mask1_2 = (time_centered > 504.58) & (time_centered < 505.515)\n",
    "mask1_3 = (time_centered > 505.58) & (time_centered < 506.578)\n",
    "mask1_4 = (time_centered > 506.61) & (time_centered < 507)\n",
    "mask1 = mask1_1 | mask1_2 | mask1_3 | mask1_4\n",
    "mask2 = (time_centered > 543) & (time_centered < 547)"
   ]
  },
  {
   "cell_type": "code",
   "execution_count": null,
   "metadata": {},
   "outputs": [],
   "source": [
    "df_col_line_sum = [f'{line}_sum' for line in lines_vac]"
   ]
  },
  {
   "cell_type": "code",
   "execution_count": null,
   "metadata": {},
   "outputs": [],
   "source": [
    "df_line_sums = df[df_col_line_sum][mask2]"
   ]
  },
  {
   "cell_type": "markdown",
   "metadata": {},
   "source": [
    "## Correlation"
   ]
  },
  {
   "cell_type": "code",
   "execution_count": null,
   "metadata": {},
   "outputs": [],
   "source": [
    "df_line_sums_pearson = df_line_sums.corr()\n",
    "df_line_sums_spearman = df_line_sums.corr('spearman')"
   ]
  },
  {
   "cell_type": "code",
   "execution_count": null,
   "metadata": {},
   "outputs": [],
   "source": [
    "line_sums_pearson = df_line_sums_pearson.values.copy()\n",
    "line_sums_spearman = df_line_sums_spearman.values.copy()"
   ]
  },
  {
   "cell_type": "code",
   "execution_count": null,
   "metadata": {},
   "outputs": [],
   "source": [
    "line_sums_pearson[line_sums_pearson<0] = 0\n",
    "line_sums_spearman[line_sums_spearman<0] = 0"
   ]
  },
  {
   "cell_type": "code",
   "execution_count": null,
   "metadata": {
    "scrolled": false
   },
   "outputs": [],
   "source": [
    "fig, axs = plt.subplots(1,2,figsize=[20,10], dpi=200)\n",
    "pcm_0 = axs[0].imshow(line_sums_pearson, cmap='inferno', origin='lower')\n",
    "fig.colorbar(pcm_0, ax=axs[0], shrink=0.75)\n",
    "pcm_1 = axs[1].imshow(line_sums_spearman, cmap='inferno', origin='lower')\n",
    "fig.colorbar(pcm_1, ax=axs[1], shrink=0.75)\n",
    "plt.tight_layout()\n",
    "plt.show()"
   ]
  },
  {
   "cell_type": "code",
   "execution_count": null,
   "metadata": {},
   "outputs": [],
   "source": [
    "lines_vac_xyc = []\n",
    "for i in range(lines_vac.shape[0]):\n",
    "    for j in range(lines_vac.shape[0]):\n",
    "        element = [lines_vac[i]/10000, lines_vac[j]/10000, line_sums_pearson[i, j], line_sums_spearman[i, j]]\n",
    "        lines_vac_xyc.append(element)"
   ]
  },
  {
   "cell_type": "code",
   "execution_count": null,
   "metadata": {},
   "outputs": [],
   "source": [
    "lines_vac_xyc = np.array(lines_vac_xyc)"
   ]
  },
  {
   "cell_type": "code",
   "execution_count": null,
   "metadata": {},
   "outputs": [],
   "source": [
    "fs = 40\n",
    "plt.figure(figsize=[25,20], dpi=200)\n",
    "plt.axes().set_facecolor('black')\n",
    "plt.title('Pearson Correlation for OH Flux Time Series (Event 2)', fontsize=fs)\n",
    "plt.scatter(lines_vac_xyc[:, 0], lines_vac_xyc[:, 1], c=lines_vac_xyc[:, 2], \n",
    "            s=4, alpha=1, marker='s', cmap='inferno')\n",
    "plt.tick_params(labelsize=fs)\n",
    "plt.xlabel('Wavelength ($\\mu$m)', fontsize=fs)\n",
    "plt.ylabel('Wavelength ($\\mu$m)', fontsize=fs)\n",
    "cbar = plt.colorbar()\n",
    "cbar.ax.tick_params(labelsize=fs)\n",
    "plt.show()"
   ]
  },
  {
   "cell_type": "code",
   "execution_count": null,
   "metadata": {},
   "outputs": [],
   "source": []
  }
 ],
 "metadata": {
  "kernelspec": {
   "display_name": "Python 3 (ipykernel)",
   "language": "python",
   "name": "python3"
  },
  "language_info": {
   "codemirror_mode": {
    "name": "ipython",
    "version": 3
   },
   "file_extension": ".py",
   "mimetype": "text/x-python",
   "name": "python",
   "nbconvert_exporter": "python",
   "pygments_lexer": "ipython3",
   "version": "3.9.12"
  }
 },
 "nbformat": 4,
 "nbformat_minor": 2
}
