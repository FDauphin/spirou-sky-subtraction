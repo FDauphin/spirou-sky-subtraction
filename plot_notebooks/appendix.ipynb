{
 "cells": [
  {
   "cell_type": "markdown",
   "metadata": {},
   "source": [
    "## Imports"
   ]
  },
  {
   "cell_type": "code",
   "execution_count": null,
   "metadata": {},
   "outputs": [],
   "source": [
    "import os\n",
    "from glob import glob\n",
    "from tqdm import tqdm\n",
    "\n",
    "import numpy as np\n",
    "from matplotlib import pyplot as plt\n",
    "import pandas as pd\n",
    "from scipy.integrate import simpson\n",
    "from scipy.optimize import curve_fit\n",
    "from scipy.signal import argrelextrema\n",
    "from scipy.stats import spearmanr, median_abs_deviation\n",
    "\n",
    "from astropy.io import fits\n",
    "from astropy.convolution import convolve, Gaussian1DKernel\n",
    "from astropy.stats import sigma_clipped_stats\n",
    "\n",
    "%matplotlib inline"
   ]
  },
  {
   "cell_type": "code",
   "execution_count": null,
   "metadata": {},
   "outputs": [],
   "source": [
    "plt.rcParams.update({'font.size': 20})"
   ]
  },
  {
   "cell_type": "markdown",
   "metadata": {},
   "source": [
    "## Load Lines and Data"
   ]
  },
  {
   "cell_type": "code",
   "execution_count": null,
   "metadata": {},
   "outputs": [],
   "source": [
    "data_path = '../data'\n",
    "lines_vac, lines_air = np.loadtxt(f'{data_path}/hydroxyl_lines_rousselot_2000.txt').T"
   ]
  },
  {
   "cell_type": "code",
   "execution_count": null,
   "metadata": {},
   "outputs": [],
   "source": [
    "results_path = '../results'\n",
    "df = pd.read_csv(f'{results_path}/lines_norm_gdl_fit.csv', index_col=0)\n",
    "columns = df.columns"
   ]
  },
  {
   "cell_type": "code",
   "execution_count": null,
   "metadata": {},
   "outputs": [],
   "source": [
    "col_sub = []\n",
    "for column in columns[9:28]:\n",
    "    if 'sigma1_cov' in column or 'sigma2_cov' in column:\n",
    "        col_sub.append(column[9:])\n",
    "    else:\n",
    "        col_sub.append(column.split('_')[1])"
   ]
  },
  {
   "cell_type": "code",
   "execution_count": null,
   "metadata": {},
   "outputs": [],
   "source": [
    "col_sub = np.array(col_sub)"
   ]
  },
  {
   "cell_type": "code",
   "execution_count": null,
   "metadata": {},
   "outputs": [],
   "source": [
    "col_sub"
   ]
  },
  {
   "cell_type": "code",
   "execution_count": null,
   "metadata": {},
   "outputs": [],
   "source": [
    "time_centered = df['spec_mjd'] - int(df['spec_mjd'].min())"
   ]
  },
  {
   "cell_type": "code",
   "execution_count": null,
   "metadata": {},
   "outputs": [],
   "source": [
    "mask1_1 = (time_centered > 504) & (time_centered < 504.5)\n",
    "mask1_2 = (time_centered > 504.58) & (time_centered < 505.515)\n",
    "mask1_3 = (time_centered > 505.58) & (time_centered < 506.578)\n",
    "mask1_4 = (time_centered > 506.61) & (time_centered < 507)\n",
    "mask1 = mask1_1 | mask1_2 | mask1_3 | mask1_4\n",
    "mask2 = (time_centered > 543) & (time_centered < 547)"
   ]
  },
  {
   "cell_type": "code",
   "execution_count": null,
   "metadata": {},
   "outputs": [],
   "source": [
    "def append_all_lines(df, column, lines_vac, time_centered, use_mask, mask):\n",
    "    \n",
    "    all_time = []\n",
    "    all_column = []\n",
    "    all_lines = []\n",
    "    \n",
    "    for line in lines_vac:\n",
    "        line_column = str(line) + '_' + column\n",
    "        if use_mask:\n",
    "            all_time.append(time_centered.values[mask])\n",
    "            all_column.append(df[line_column].values[mask])\n",
    "            all_lines.append(np.ones(df.shape[0])[mask]*line)\n",
    "        else:\n",
    "            all_time.append(time_centered.values)\n",
    "            all_column.append(df[line_column].values)\n",
    "            all_lines.append(np.ones(df.shape[0])*line)\n",
    "            \n",
    "    all_time = np.concatenate(all_time)\n",
    "    all_column = np.concatenate(all_column)\n",
    "    all_lines = np.concatenate(all_lines)\n",
    "    \n",
    "    return all_time, all_column, all_lines/10000"
   ]
  },
  {
   "cell_type": "markdown",
   "metadata": {},
   "source": [
    "## Local Median"
   ]
  },
  {
   "cell_type": "code",
   "execution_count": null,
   "metadata": {},
   "outputs": [],
   "source": [
    "x, y, c = append_all_lines(df, col_sub[0], lines_vac, time_centered, use_mask=0, mask=0)\n",
    "x1, y1, c1 = append_all_lines(df, col_sub[0], lines_vac, time_centered, use_mask=1, mask=mask1)\n",
    "x2, y2, c2 = append_all_lines(df, col_sub[0], lines_vac, time_centered, use_mask=1, mask=mask2)"
   ]
  },
  {
   "cell_type": "code",
   "execution_count": null,
   "metadata": {},
   "outputs": [],
   "source": [
    "fs = 45\n",
    "y_min = -10**2\n",
    "y_max = 10**2\n",
    "plt.figure(figsize=[30,10])\n",
    "plt.grid(linewidth=2)\n",
    "plt.title('SPIRou Sky: Local Median', fontsize=fs)\n",
    "plt.scatter(x, y, c=c, alpha=0.5, s=10, cmap='plasma')\n",
    "plt.vlines(505.5, y_min, y_max, color='C5', linewidth=5, label='Event 1', ls='--')\n",
    "plt.vlines(545, y_min, y_max, color='C7', linewidth=5, label='Event 2', ls='--')\n",
    "plt.xlabel('Days from First Observation ($MJD_0$=58327)', fontsize=fs)\n",
    "plt.ylabel('Relative Flux', fontsize=fs)\n",
    "plt.tick_params(labelsize=fs)\n",
    "plt.yscale('symlog')\n",
    "plt.ylim(y_min, y_max)\n",
    "plt.legend(fontsize=fs)\n",
    "cbar = plt.colorbar()\n",
    "cbar.ax.tick_params(labelsize=fs)"
   ]
  },
  {
   "cell_type": "code",
   "execution_count": null,
   "metadata": {},
   "outputs": [],
   "source": [
    "fs = 45\n",
    "y_min = -10**2\n",
    "y_max = 10**2\n",
    "plt.figure(figsize=[30,10])\n",
    "plt.grid(linewidth=2)\n",
    "plt.title('SPIRou Sky: Local Median (Event 1)', fontsize=fs)\n",
    "plt.scatter(x1, y1, c=c1, alpha=0.5, s=1, cmap='plasma')\n",
    "plt.xlabel('Days from First Observation ($MJD_0$=58327)', fontsize=fs)\n",
    "plt.ylabel('Relative Flux', fontsize=fs)\n",
    "plt.tick_params(labelsize=fs)\n",
    "plt.yscale('symlog')\n",
    "plt.ylim(y_min, y_max)\n",
    "cbar = plt.colorbar()\n",
    "cbar.ax.tick_params(labelsize=fs)"
   ]
  },
  {
   "cell_type": "code",
   "execution_count": null,
   "metadata": {},
   "outputs": [],
   "source": [
    "fs = 45\n",
    "y_min = -10**2\n",
    "y_max = 10**2\n",
    "plt.figure(figsize=[30,10])\n",
    "plt.grid(linewidth=2)\n",
    "plt.title('SPIRou Sky: Local Median (Event 2)', fontsize=fs)\n",
    "plt.scatter(x2, y2, c=c2, alpha=0.5, s=1, cmap='plasma')\n",
    "plt.xlabel('Days from First Observation ($MJD_0$=58327)', fontsize=fs)\n",
    "plt.ylabel('Relative Flux', fontsize=fs)\n",
    "plt.tick_params(labelsize=fs)\n",
    "plt.yscale('symlog')\n",
    "plt.ylim(y_min, y_max)\n",
    "cbar = plt.colorbar()\n",
    "cbar.ax.tick_params(labelsize=fs)"
   ]
  },
  {
   "cell_type": "markdown",
   "metadata": {},
   "source": [
    "## MAD"
   ]
  },
  {
   "cell_type": "code",
   "execution_count": null,
   "metadata": {},
   "outputs": [],
   "source": [
    "x, y, c = append_all_lines(df, col_sub[1], lines_vac, time_centered, use_mask=0, mask=0)\n",
    "x1, y1, c1 = append_all_lines(df, col_sub[1], lines_vac, time_centered, use_mask=1, mask=mask1)\n",
    "x2, y2, c2 = append_all_lines(df, col_sub[1], lines_vac, time_centered, use_mask=1, mask=mask2)"
   ]
  },
  {
   "cell_type": "code",
   "execution_count": null,
   "metadata": {},
   "outputs": [],
   "source": [
    "fs = 45\n",
    "y_min = 10**-4\n",
    "y_max = 10**2\n",
    "plt.figure(figsize=[30,10])\n",
    "plt.grid(linewidth=2)\n",
    "plt.title('SPIRou Sky: Local Median Absolute Deviation', fontsize=fs)\n",
    "plt.scatter(x, y, c=c, alpha=0.5, s=10, cmap='plasma')\n",
    "plt.vlines(505.5, y_min, y_max, color='C5', linewidth=5, label='Event 1', ls='--')\n",
    "plt.vlines(545, y_min, y_max, color='C7', linewidth=5, label='Event 2', ls='--')\n",
    "plt.xlabel('Days from First Observation ($MJD_0$=58327)', fontsize=fs)\n",
    "plt.ylabel('Relative Flux', fontsize=fs)\n",
    "plt.tick_params(labelsize=fs)\n",
    "plt.yscale('log')\n",
    "plt.ylim(y_min, y_max)\n",
    "plt.legend(fontsize=fs)\n",
    "cbar = plt.colorbar()\n",
    "cbar.ax.tick_params(labelsize=fs)"
   ]
  },
  {
   "cell_type": "code",
   "execution_count": null,
   "metadata": {},
   "outputs": [],
   "source": [
    "fs = 45\n",
    "y_min = 10**-4\n",
    "y_max = 10**2\n",
    "plt.figure(figsize=[30,10])\n",
    "plt.grid(linewidth=2)\n",
    "plt.title('SPIRou Sky: Local Median Absolute Deviation (Event 1)', fontsize=fs)\n",
    "plt.scatter(x1, y1, c=c1, alpha=0.5, s=1, cmap='plasma')\n",
    "plt.xlabel('Days from First Observation ($MJD_0$=58327)', fontsize=fs)\n",
    "plt.ylabel('Relative Flux', fontsize=fs)\n",
    "plt.tick_params(labelsize=fs)\n",
    "plt.yscale('log')\n",
    "plt.ylim(y_min, y_max)\n",
    "cbar = plt.colorbar()\n",
    "cbar.ax.tick_params(labelsize=fs)"
   ]
  },
  {
   "cell_type": "code",
   "execution_count": null,
   "metadata": {},
   "outputs": [],
   "source": [
    "fs = 45\n",
    "y_min = 10**-4\n",
    "y_max = 10**2\n",
    "plt.figure(figsize=[30,10])\n",
    "plt.grid(linewidth=2)\n",
    "plt.title('SPIRou Sky: Local Median Absolute Deviation (Event 2)', fontsize=fs)\n",
    "plt.scatter(x2, y2, c=c2, alpha=0.5, s=1, cmap='plasma')\n",
    "plt.xlabel('Days from First Observation ($MJD_0$=58327)', fontsize=fs)\n",
    "plt.ylabel('Relative Flux', fontsize=fs)\n",
    "plt.tick_params(labelsize=fs)\n",
    "plt.yscale('log')\n",
    "plt.ylim(y_min, y_max)\n",
    "cbar = plt.colorbar()\n",
    "cbar.ax.tick_params(labelsize=fs)"
   ]
  },
  {
   "cell_type": "markdown",
   "metadata": {},
   "source": [
    "## Sum"
   ]
  },
  {
   "cell_type": "code",
   "execution_count": null,
   "metadata": {},
   "outputs": [],
   "source": [
    "x, y, c = append_all_lines(df, col_sub[2], lines_vac, time_centered, use_mask=0, mask=0)\n",
    "x1, y1, c1 = append_all_lines(df, col_sub[2], lines_vac, time_centered, use_mask=1, mask=mask1)\n",
    "x2, y2, c2 = append_all_lines(df, col_sub[2], lines_vac, time_centered, use_mask=1, mask=mask2)"
   ]
  },
  {
   "cell_type": "code",
   "execution_count": null,
   "metadata": {},
   "outputs": [],
   "source": [
    "fs = 45\n",
    "y_min = -10**3\n",
    "y_max = 10**3\n",
    "plt.figure(figsize=[30,10])\n",
    "plt.grid(linewidth=2)\n",
    "plt.title('SPIRou Sky: Total Flux Contribution', fontsize=fs)\n",
    "plt.scatter(x, y, c=c, alpha=0.5, s=10, cmap='plasma')\n",
    "plt.vlines(505.5, y_min, y_max, color='C5', linewidth=5, label='Event 1', ls='--')\n",
    "plt.vlines(545, y_min, y_max, color='C7', linewidth=5, label='Event 2', ls='--')\n",
    "plt.xlabel('Days from First Observation ($MJD_0$=58327)', fontsize=fs)\n",
    "plt.ylabel('Relative Flux', fontsize=fs)\n",
    "plt.tick_params(labelsize=40)\n",
    "plt.yscale('symlog')\n",
    "plt.ylim(y_min, y_max)\n",
    "plt.legend(fontsize=fs)\n",
    "cbar = plt.colorbar()\n",
    "cbar.ax.tick_params(labelsize=fs)"
   ]
  },
  {
   "cell_type": "code",
   "execution_count": null,
   "metadata": {},
   "outputs": [],
   "source": [
    "fs = 45\n",
    "y_min = -10**3\n",
    "y_max = 10**3\n",
    "plt.figure(figsize=[30,10])\n",
    "plt.grid(linewidth=2)\n",
    "plt.title('SPIRou Sky: Total Flux Contribution (Event 1)', fontsize=fs)\n",
    "plt.scatter(x1, y1, c=c1, alpha=0.5, s=1, cmap='plasma')\n",
    "plt.xlabel('Days from First Observation ($MJD_0$=58327)', fontsize=fs)\n",
    "plt.ylabel('Relative Flux', fontsize=fs)\n",
    "plt.tick_params(labelsize=40)\n",
    "plt.yscale('symlog')\n",
    "plt.ylim(y_min, y_max)\n",
    "cbar = plt.colorbar()\n",
    "cbar.ax.tick_params(labelsize=fs)"
   ]
  },
  {
   "cell_type": "code",
   "execution_count": null,
   "metadata": {},
   "outputs": [],
   "source": [
    "fs = 45\n",
    "y_min = -10**3\n",
    "y_max = 10**3\n",
    "plt.figure(figsize=[30,10])\n",
    "plt.grid(linewidth=2)\n",
    "plt.title('SPIRou Sky: Total Flux Contribution (Event 2)', fontsize=fs)\n",
    "plt.scatter(x2, y2, c=c2, alpha=0.5, s=1, cmap='plasma')\n",
    "plt.xlabel('Days from First Observation ($MJD_0$=58327)', fontsize=fs)\n",
    "plt.ylabel('Relative Flux', fontsize=fs)\n",
    "plt.tick_params(labelsize=40)\n",
    "plt.yscale('symlog')\n",
    "plt.ylim(y_min, y_max)\n",
    "cbar = plt.colorbar()\n",
    "cbar.ax.tick_params(labelsize=fs)"
   ]
  },
  {
   "cell_type": "markdown",
   "metadata": {},
   "source": [
    "## Amp"
   ]
  },
  {
   "cell_type": "code",
   "execution_count": null,
   "metadata": {},
   "outputs": [],
   "source": [
    "x, y, c = append_all_lines(df, col_sub[3], lines_vac, time_centered, use_mask=0, mask=0)\n",
    "x1, y1, c1 = append_all_lines(df, col_sub[3], lines_vac, time_centered, use_mask=1, mask=mask1)\n",
    "x2, y2, c2 = append_all_lines(df, col_sub[3], lines_vac, time_centered, use_mask=1, mask=mask2)"
   ]
  },
  {
   "cell_type": "code",
   "execution_count": null,
   "metadata": {},
   "outputs": [],
   "source": [
    "x_, y_, c_ = append_all_lines(df, col_sub[14], lines_vac, time_centered, use_mask=0, mask=0)\n",
    "x1_, y1_, c1_ = append_all_lines(df, col_sub[14], lines_vac, time_centered, use_mask=1, mask=mask1)\n",
    "x2_, y2_, c2_ = append_all_lines(df, col_sub[14], lines_vac, time_centered, use_mask=1, mask=mask2)"
   ]
  },
  {
   "cell_type": "code",
   "execution_count": null,
   "metadata": {},
   "outputs": [],
   "source": [
    "x = np.concatenate((x, x_))\n",
    "y = np.concatenate((y, y_))\n",
    "c = np.concatenate((c, c_))"
   ]
  },
  {
   "cell_type": "code",
   "execution_count": null,
   "metadata": {},
   "outputs": [],
   "source": [
    "fs = 45\n",
    "y_min = -10**3\n",
    "y_max = 10**3\n",
    "plt.figure(figsize=[30,10])\n",
    "plt.grid(linewidth=2)\n",
    "plt.title('SPIRou Sky: $A_1$ and $A_2$', fontsize=fs)\n",
    "plt.scatter(x, y, c=c, alpha=0.25, s=10, cmap='plasma')\n",
    "plt.vlines(505.5, y_min, y_max, color='C5', linewidth=5, label='Event 1', ls='--')\n",
    "plt.vlines(545, y_min, y_max, color='C7', linewidth=5, label='Event 2', ls='--')\n",
    "plt.xlabel('Days from First Observation ($MJD_0$=58327)', fontsize=fs)\n",
    "plt.ylabel('Relative Flux $\\cdot$ $\\mathring{A}$', fontsize=fs)\n",
    "plt.tick_params(labelsize=40)\n",
    "plt.yscale('symlog')\n",
    "plt.ylim(y_min, y_max)\n",
    "plt.legend(fontsize=fs)\n",
    "cbar = plt.colorbar()\n",
    "cbar.ax.tick_params(labelsize=fs)"
   ]
  },
  {
   "cell_type": "code",
   "execution_count": null,
   "metadata": {},
   "outputs": [],
   "source": [
    "x1 = np.concatenate((x1, x1_))\n",
    "y1 = np.concatenate((y1, y1_))\n",
    "c1 = np.concatenate((c1, c1_))"
   ]
  },
  {
   "cell_type": "code",
   "execution_count": null,
   "metadata": {},
   "outputs": [],
   "source": [
    "fs = 45\n",
    "y_min = -10**3\n",
    "y_max = 10**3\n",
    "plt.figure(figsize=[30,10])\n",
    "plt.grid(linewidth=2)\n",
    "plt.title('SPIRou Sky: $A_1$ and $A_2$ (Event 1)', fontsize=fs)\n",
    "plt.scatter(x1, y1, c=c1, alpha=0.25, s=1, cmap='plasma')\n",
    "plt.xlabel('Days from First Observation ($MJD_0$=58327)', fontsize=fs)\n",
    "plt.ylabel('Relative Flux $\\cdot$ $\\mathring{A}$', fontsize=fs)\n",
    "plt.tick_params(labelsize=40)\n",
    "plt.yscale('symlog')\n",
    "plt.ylim(y_min, y_max)\n",
    "cbar = plt.colorbar()\n",
    "cbar.ax.tick_params(labelsize=fs)\n",
    "plt.show()"
   ]
  },
  {
   "cell_type": "code",
   "execution_count": null,
   "metadata": {},
   "outputs": [],
   "source": [
    "x2 = np.concatenate((x2, x2_))\n",
    "y2 = np.concatenate((y2, y2_))\n",
    "c2 = np.concatenate((c2, c2_))"
   ]
  },
  {
   "cell_type": "code",
   "execution_count": null,
   "metadata": {},
   "outputs": [],
   "source": [
    "fs = 45\n",
    "y_min = -10**3\n",
    "y_max = 10**3\n",
    "plt.figure(figsize=[30,10])\n",
    "plt.grid(linewidth=2)\n",
    "plt.title('SPIRou Sky: $A_1$ and $A_2$ (Event 2)', fontsize=fs)\n",
    "plt.scatter(x2, y2, c=c2, alpha=0.25, s=1, cmap='plasma')\n",
    "plt.xlabel('Days from First Observation ($MJD_0$=58327)', fontsize=fs)\n",
    "plt.ylabel('Relative Flux $\\cdot$ $\\mathring{A}$', fontsize=fs)\n",
    "plt.tick_params(labelsize=40)\n",
    "plt.yscale('symlog')\n",
    "plt.ylim(y_min, y_max)\n",
    "cbar = plt.colorbar()\n",
    "cbar.ax.tick_params(labelsize=fs)"
   ]
  },
  {
   "cell_type": "markdown",
   "metadata": {},
   "source": [
    "## Mu"
   ]
  },
  {
   "cell_type": "code",
   "execution_count": null,
   "metadata": {},
   "outputs": [],
   "source": [
    "x, y, c = append_all_lines(df, col_sub[4], lines_vac, time_centered, use_mask=0, mask=0)\n",
    "x1, y1, c1 = append_all_lines(df, col_sub[4], lines_vac, time_centered, use_mask=1, mask=mask1)\n",
    "x2, y2, c2 = append_all_lines(df, col_sub[4], lines_vac, time_centered, use_mask=1, mask=mask2)"
   ]
  },
  {
   "cell_type": "code",
   "execution_count": null,
   "metadata": {},
   "outputs": [],
   "source": [
    "x_, y_, c_ = append_all_lines(df, col_sub[15], lines_vac, time_centered, use_mask=0, mask=0)\n",
    "x1_, y1_, c1_ = append_all_lines(df, col_sub[15], lines_vac, time_centered, use_mask=1, mask=mask1)\n",
    "x2_, y2_, c2_ = append_all_lines(df, col_sub[15], lines_vac, time_centered, use_mask=1, mask=mask2)"
   ]
  },
  {
   "cell_type": "code",
   "execution_count": null,
   "metadata": {},
   "outputs": [],
   "source": [
    "x = np.concatenate((x, x_))\n",
    "y = np.concatenate((y, y_))\n",
    "c = np.concatenate((c, c_))"
   ]
  },
  {
   "cell_type": "code",
   "execution_count": null,
   "metadata": {},
   "outputs": [],
   "source": [
    "fs = 45\n",
    "y_min = 1\n",
    "y_max = 2.25\n",
    "plt.figure(figsize=[30,10])\n",
    "plt.grid(linewidth=2)\n",
    "plt.title('SPIRou Sky: $\\mu_1$ and $\\mu_2$', fontsize=fs)\n",
    "plt.scatter(x, y/10000, c=c, alpha=0.25, s=10, cmap='plasma')\n",
    "plt.vlines(505.5, y_min, y_max, color='C5', linewidth=5, label='Event 1', ls='--')\n",
    "plt.vlines(545, y_min, y_max, color='C7', linewidth=5, label='Event 2', ls='--')\n",
    "plt.xlabel('Days from First Observation ($MJD_0$=58327)', fontsize=fs)\n",
    "plt.ylabel('Wavelength ($\\mu$m)', fontsize=fs)\n",
    "plt.tick_params(labelsize=fs)\n",
    "plt.legend(fontsize=fs)\n",
    "cbar = plt.colorbar()\n",
    "cbar.ax.tick_params(labelsize=fs)"
   ]
  },
  {
   "cell_type": "code",
   "execution_count": null,
   "metadata": {},
   "outputs": [],
   "source": [
    "x1 = np.concatenate((x1, x1_))\n",
    "y1 = np.concatenate((y1, y1_))\n",
    "c1 = np.concatenate((c1, c1_))"
   ]
  },
  {
   "cell_type": "code",
   "execution_count": null,
   "metadata": {},
   "outputs": [],
   "source": [
    "fs = 45\n",
    "y_min = 1\n",
    "y_max = 2.25\n",
    "plt.figure(figsize=[30,10])\n",
    "plt.grid(linewidth=2)\n",
    "plt.title('SPIRou Sky: $\\mu_1$ and $\\mu_2$ (Event 1)', fontsize=fs)\n",
    "plt.scatter(x1, y1/10000, c=c1, alpha=0.25, s=1, cmap='plasma')\n",
    "plt.xlabel('Days from First Observation ($MJD_0$=58327)', fontsize=fs)\n",
    "plt.ylabel('Wavelength ($\\mu$m)', fontsize=fs)\n",
    "plt.tick_params(labelsize=fs)\n",
    "cbar = plt.colorbar()\n",
    "cbar.ax.tick_params(labelsize=fs)"
   ]
  },
  {
   "cell_type": "code",
   "execution_count": null,
   "metadata": {},
   "outputs": [],
   "source": [
    "x2 = np.concatenate((x2, x2_))\n",
    "y2 = np.concatenate((y2, y2_))\n",
    "c2 = np.concatenate((c2, c2_))"
   ]
  },
  {
   "cell_type": "code",
   "execution_count": null,
   "metadata": {},
   "outputs": [],
   "source": [
    "fs = 45\n",
    "y_min = 1\n",
    "y_max = 2.25\n",
    "plt.figure(figsize=[30,10])\n",
    "plt.grid(linewidth=2)\n",
    "plt.title('SPIRou Sky: $\\mu_1$ and $\\mu_2$ (Event 2)', fontsize=fs)\n",
    "plt.scatter(x2, y2/10000, c=c2, alpha=0.25, s=1, cmap='plasma')\n",
    "plt.xlabel('Days from First Observation ($MJD_0$=58327)', fontsize=fs)\n",
    "plt.ylabel('Wavelength ($\\mu$m)', fontsize=fs)\n",
    "plt.tick_params(labelsize=fs)\n",
    "cbar = plt.colorbar()\n",
    "cbar.ax.tick_params(labelsize=fs)"
   ]
  },
  {
   "cell_type": "markdown",
   "metadata": {},
   "source": [
    "## Sigma"
   ]
  },
  {
   "cell_type": "code",
   "execution_count": null,
   "metadata": {},
   "outputs": [],
   "source": [
    "x, y, c = append_all_lines(df, col_sub[5], lines_vac, time_centered, use_mask=0, mask=0)\n",
    "x1, y1, c1 = append_all_lines(df, col_sub[5], lines_vac, time_centered, use_mask=1, mask=mask1)\n",
    "x2, y2, c2 = append_all_lines(df, col_sub[5], lines_vac, time_centered, use_mask=1, mask=mask2)"
   ]
  },
  {
   "cell_type": "code",
   "execution_count": null,
   "metadata": {},
   "outputs": [],
   "source": [
    "x_, y_, c_ = append_all_lines(df, col_sub[16], lines_vac, time_centered, use_mask=0, mask=0)\n",
    "x1_, y1_, c1_ = append_all_lines(df, col_sub[16], lines_vac, time_centered, use_mask=1, mask=mask1)\n",
    "x2_, y2_, c2_ = append_all_lines(df, col_sub[16], lines_vac, time_centered, use_mask=1, mask=mask2)"
   ]
  },
  {
   "cell_type": "code",
   "execution_count": null,
   "metadata": {},
   "outputs": [],
   "source": [
    "x = np.concatenate((x, x_))\n",
    "y = np.concatenate((y, y_))\n",
    "c = np.concatenate((c, c_))"
   ]
  },
  {
   "cell_type": "code",
   "execution_count": null,
   "metadata": {},
   "outputs": [],
   "source": [
    "fs = 45\n",
    "y_min = 10**-12\n",
    "y_max = 10**-2\n",
    "plt.figure(figsize=[30,10])\n",
    "plt.grid(linewidth=2)\n",
    "plt.title('SPIRou Sky: $\\sigma_1$ and $\\sigma_2$', fontsize=fs)\n",
    "plt.scatter(x, y/10000, c=c, alpha=0.25, s=10, cmap='plasma')\n",
    "plt.vlines(505.5, y_min, y_max, color='C5', linewidth=5, label='Event 1', ls='--')\n",
    "plt.vlines(545, y_min, y_max, color='C7', linewidth=5, label='Event 2', ls='--')\n",
    "plt.xlabel('Days from First Observation ($MJD_0$=58327)', fontsize=fs)\n",
    "plt.ylabel('Wavelength ($\\mu$m)', fontsize=fs)\n",
    "plt.tick_params(labelsize=fs)\n",
    "plt.yscale('log')\n",
    "plt.ylim(y_min, y_max)\n",
    "plt.legend(fontsize=fs)\n",
    "cbar = plt.colorbar()\n",
    "cbar.ax.tick_params(labelsize=fs)"
   ]
  },
  {
   "cell_type": "code",
   "execution_count": null,
   "metadata": {},
   "outputs": [],
   "source": [
    "x1 = np.concatenate((x1, x1_))\n",
    "y1 = np.concatenate((y1, y1_))\n",
    "c1 = np.concatenate((c1, c1_))"
   ]
  },
  {
   "cell_type": "code",
   "execution_count": null,
   "metadata": {},
   "outputs": [],
   "source": [
    "fs = 45\n",
    "y_min = 10**-12\n",
    "y_max = 10**-2\n",
    "plt.figure(figsize=[30,10])\n",
    "plt.grid(linewidth=2)\n",
    "plt.title('SPIRou Sky: $\\sigma_1$ and $\\sigma_2$ (Event 1)', fontsize=fs)\n",
    "plt.scatter(x1, y1/10000, c=c1, alpha=0.25, s=1, cmap='plasma')\n",
    "plt.xlabel('Days from First Observation ($MJD_0$=58327)', fontsize=fs)\n",
    "plt.ylabel('Wavelength ($\\mu$m)', fontsize=fs)\n",
    "plt.tick_params(labelsize=fs)\n",
    "plt.yscale('log')\n",
    "plt.ylim(y_min, y_max)\n",
    "cbar = plt.colorbar()\n",
    "cbar.ax.tick_params(labelsize=fs)"
   ]
  },
  {
   "cell_type": "code",
   "execution_count": null,
   "metadata": {},
   "outputs": [],
   "source": [
    "x2 = np.concatenate((x2, x2_))\n",
    "y2 = np.concatenate((y2, y2_))\n",
    "c2 = np.concatenate((c2, c2_))"
   ]
  },
  {
   "cell_type": "code",
   "execution_count": null,
   "metadata": {},
   "outputs": [],
   "source": [
    "fs = 45\n",
    "y_min = 10**-12\n",
    "y_max = 10**-2\n",
    "plt.figure(figsize=[30,10])\n",
    "plt.grid(linewidth=2)\n",
    "plt.title('SPIRou Sky: $\\sigma_1$ and $\\sigma_2$ (Event 2)', fontsize=fs)\n",
    "plt.scatter(x2, y2/10000, c=c2, alpha=0.25, s=1, cmap='plasma')\n",
    "plt.xlabel('Days from First Observation ($MJD_0$=58327)', fontsize=fs)\n",
    "plt.ylabel('Wavelength ($\\mu$m)', fontsize=fs)\n",
    "plt.tick_params(labelsize=fs)\n",
    "plt.yscale('log')\n",
    "plt.ylim(y_min, y_max)\n",
    "cbar = plt.colorbar()\n",
    "cbar.ax.tick_params(labelsize=fs)"
   ]
  },
  {
   "cell_type": "markdown",
   "metadata": {},
   "source": [
    "## Error"
   ]
  },
  {
   "cell_type": "code",
   "execution_count": null,
   "metadata": {},
   "outputs": [],
   "source": [
    "x, y, c = append_all_lines(df, col_sub[7], lines_vac, time_centered, use_mask=0, mask=0)\n",
    "x1, y1, c1 = append_all_lines(df, col_sub[7], lines_vac, time_centered, use_mask=1, mask=mask1)\n",
    "x2, y2, c2 = append_all_lines(df, col_sub[7], lines_vac, time_centered, use_mask=1, mask=mask2)"
   ]
  },
  {
   "cell_type": "code",
   "execution_count": null,
   "metadata": {},
   "outputs": [],
   "source": [
    "fs = 45\n",
    "y_min = 10**-5\n",
    "y_max = 10**6\n",
    "plt.figure(figsize=[30,10])\n",
    "plt.grid(linewidth=2)\n",
    "plt.title('SPIRou Sky: $\\eta$', fontsize=fs)\n",
    "plt.scatter(x, y, c=c, alpha=0.5, s=10, cmap='plasma')\n",
    "plt.vlines(505.5, y_min, y_max, color='C5', linewidth=5, label='Event 1', ls='--')\n",
    "plt.vlines(545, y_min, y_max, color='C7', linewidth=5, label='Event 2', ls='--')\n",
    "plt.xlabel('Days from First Observation ($MJD_0$=58327)', fontsize=fs)\n",
    "plt.ylabel('Unitless (%)', fontsize=fs)\n",
    "plt.tick_params(labelsize=fs)\n",
    "plt.yscale('log')\n",
    "plt.ylim(y_min, y_max)\n",
    "plt.legend(fontsize=fs)\n",
    "cbar = plt.colorbar()\n",
    "cbar.ax.tick_params(labelsize=fs)"
   ]
  },
  {
   "cell_type": "code",
   "execution_count": null,
   "metadata": {},
   "outputs": [],
   "source": [
    "y_0 = np.log10(np.sort(y.copy()[y > 0]))\n",
    "per = np.arange(y_0.shape[0]) / y_0.shape[0]\n",
    "fig, axs = plt.subplots(1,2,figsize=[30,10])\n",
    "axs[0].grid()\n",
    "axs[0].plot(y_0, per)\n",
    "axs[0].set_xlabel('Error')\n",
    "axs[0].set_ylabel('% of Data < Error')\n",
    "axs[1].grid()\n",
    "axs[1].hist(y_0, bins=200)\n",
    "axs[1].set_yscale('log')"
   ]
  },
  {
   "cell_type": "code",
   "execution_count": null,
   "metadata": {},
   "outputs": [],
   "source": [
    "fs = 45\n",
    "y_min = 10**-5\n",
    "y_max = 10**6\n",
    "plt.figure(figsize=[30,10])\n",
    "plt.grid(linewidth=2)\n",
    "plt.title('SPIRou Sky: $\\eta$ (Event 1)', fontsize=fs)\n",
    "plt.scatter(x1, y1, c=c1, alpha=0.5, s=1, cmap='plasma')\n",
    "plt.xlabel('Days from First Observation ($MJD_0$=58327)', fontsize=fs)\n",
    "plt.ylabel('Unitless (%)', fontsize=fs)\n",
    "plt.tick_params(labelsize=fs)\n",
    "plt.yscale('log')\n",
    "plt.ylim(y_min, y_max)\n",
    "cbar = plt.colorbar()\n",
    "cbar.ax.tick_params(labelsize=fs)"
   ]
  },
  {
   "cell_type": "code",
   "execution_count": null,
   "metadata": {},
   "outputs": [],
   "source": [
    "fs = 45\n",
    "y_min = 10**-5\n",
    "y_max = 10**6\n",
    "plt.figure(figsize=[30,10])\n",
    "plt.grid(linewidth=2)\n",
    "plt.title('SPIRou Sky: $\\eta$ (Event 2)', fontsize=fs)\n",
    "plt.scatter(x2, y2, c=c2, alpha=0.5, s=1, cmap='plasma')\n",
    "plt.xlabel('Days from First Observation ($MJD_0$=58327)', fontsize=fs)\n",
    "plt.ylabel('Unitless (%)', fontsize=fs)\n",
    "plt.tick_params(labelsize=fs)\n",
    "plt.yscale('log')\n",
    "plt.ylim(y_min, y_max)\n",
    "cbar = plt.colorbar()\n",
    "cbar.ax.tick_params(labelsize=fs)"
   ]
  },
  {
   "cell_type": "markdown",
   "metadata": {},
   "source": [
    "## MSE"
   ]
  },
  {
   "cell_type": "code",
   "execution_count": null,
   "metadata": {},
   "outputs": [],
   "source": [
    "x, y, c = append_all_lines(df, col_sub[8], lines_vac, time_centered, use_mask=0, mask=0)\n",
    "x1, y1, c1 = append_all_lines(df, col_sub[8], lines_vac, time_centered, use_mask=1, mask=mask1)\n",
    "x2, y2, c2 = append_all_lines(df, col_sub[8], lines_vac, time_centered, use_mask=1, mask=mask2)"
   ]
  },
  {
   "cell_type": "code",
   "execution_count": null,
   "metadata": {},
   "outputs": [],
   "source": [
    "fs = 45\n",
    "y_min = 10**-8\n",
    "y_max = 10**4\n",
    "plt.figure(figsize=[30,10])\n",
    "plt.grid(linewidth=2)\n",
    "plt.title('SPIRou Sky: MSE', fontsize=fs)\n",
    "plt.scatter(x, y, c=c, alpha=0.5, s=10, cmap='plasma')\n",
    "plt.vlines(505.5, y_min, y_max, color='C5', linewidth=5, label='Event 1', ls='--')\n",
    "plt.vlines(545, y_min, y_max, color='C7', linewidth=5, label='Event 2', ls='--')\n",
    "plt.xlabel('Days from First Observation ($MJD_0$=58327)', fontsize=fs)\n",
    "plt.ylabel('Relative Flux$^2$', fontsize=fs)\n",
    "plt.tick_params(labelsize=fs)\n",
    "plt.yscale('log')\n",
    "plt.ylim(y_min, y_max)\n",
    "plt.legend(fontsize=fs)\n",
    "cbar = plt.colorbar()\n",
    "cbar.ax.tick_params(labelsize=fs)"
   ]
  },
  {
   "cell_type": "code",
   "execution_count": null,
   "metadata": {},
   "outputs": [],
   "source": [
    "fs = 45\n",
    "y_min = 10**-8\n",
    "y_max = 10**4\n",
    "plt.figure(figsize=[30,10])\n",
    "plt.grid(linewidth=2)\n",
    "plt.title('SPIRou Sky: MSE (Event 1)', fontsize=fs)\n",
    "plt.scatter(x1, y1, c=c1, alpha=0.5, s=1, cmap='plasma')\n",
    "plt.xlabel('Days from First Observation ($MJD_0$=58327)', fontsize=fs)\n",
    "plt.ylabel('Relative Flux$^2$', fontsize=fs)\n",
    "plt.tick_params(labelsize=fs)\n",
    "plt.yscale('log')\n",
    "plt.ylim(y_min, y_max)\n",
    "cbar = plt.colorbar()\n",
    "cbar.ax.tick_params(labelsize=fs)"
   ]
  },
  {
   "cell_type": "code",
   "execution_count": null,
   "metadata": {},
   "outputs": [],
   "source": [
    "fs = 45\n",
    "y_min = 10**-8\n",
    "y_max = 10**4\n",
    "plt.figure(figsize=[30,10])\n",
    "plt.grid(linewidth=2)\n",
    "plt.title('SPIRou Sky: MSE (Event 2)', fontsize=fs)\n",
    "plt.scatter(x2, y2, c=c2, alpha=0.5, s=1, cmap='plasma')\n",
    "plt.xlabel('Days from First Observation ($MJD_0$=58327)', fontsize=fs)\n",
    "plt.ylabel('Relative Flux$^2$', fontsize=fs)\n",
    "plt.tick_params(labelsize=fs)\n",
    "plt.yscale('log')\n",
    "plt.ylim(y_min, y_max)\n",
    "cbar = plt.colorbar()\n",
    "cbar.ax.tick_params(labelsize=fs)"
   ]
  },
  {
   "cell_type": "markdown",
   "metadata": {},
   "source": [
    "## Pearson"
   ]
  },
  {
   "cell_type": "code",
   "execution_count": null,
   "metadata": {},
   "outputs": [],
   "source": [
    "x, y, c = append_all_lines(df, col_sub[9], lines_vac, time_centered, use_mask=0, mask=0)\n",
    "x1, y1, c1 = append_all_lines(df, col_sub[9], lines_vac, time_centered, use_mask=1, mask=mask1)\n",
    "x2, y2, c2 = append_all_lines(df, col_sub[9], lines_vac, time_centered, use_mask=1, mask=mask2)"
   ]
  },
  {
   "cell_type": "code",
   "execution_count": null,
   "metadata": {},
   "outputs": [],
   "source": [
    "fs = 45\n",
    "y_min = -0.6\n",
    "y_max = 1.1\n",
    "plt.figure(figsize=[30,10])\n",
    "plt.grid(linewidth=2)\n",
    "plt.title('SPIRou Sky: $R_{Pearson}$', fontsize=fs)\n",
    "plt.scatter(x, y, c=c, alpha=0.5, s=10, cmap='plasma')\n",
    "plt.vlines(505.5, y_min, y_max, color='C5', linewidth=5, label='Event 1', ls='--')\n",
    "plt.vlines(545, y_min, y_max, color='C7', linewidth=5, label='Event 2', ls='--')\n",
    "plt.xlabel('Days from First Observation ($MJD_0$=58327)', fontsize=fs)\n",
    "plt.ylabel('Unitless', fontsize=fs)\n",
    "plt.tick_params(labelsize=fs)\n",
    "plt.ylim(y_min, y_max)\n",
    "plt.legend(fontsize=fs)\n",
    "cbar = plt.colorbar()\n",
    "cbar.ax.tick_params(labelsize=fs)"
   ]
  },
  {
   "cell_type": "code",
   "execution_count": null,
   "metadata": {},
   "outputs": [],
   "source": [
    "y_0 = np.sort(y.copy()[y > 0])\n",
    "per = 1 - (np.arange(y_0.shape[0]) / y_0.shape[0])\n",
    "fig, axs = plt.subplots(1,2,figsize=[30,10])\n",
    "axs[0].grid()\n",
    "axs[0].plot(y_0, per)\n",
    "axs[0].set_xlabel('Pearson')\n",
    "axs[0].set_ylabel('% of Data > Pearson')\n",
    "axs[1].grid()\n",
    "axs[1].hist(y_0, bins=200)\n",
    "axs[1].set_yscale('log')"
   ]
  },
  {
   "cell_type": "code",
   "execution_count": null,
   "metadata": {},
   "outputs": [],
   "source": [
    "fs = 45\n",
    "y_min = -0.6\n",
    "y_max = 1.1\n",
    "plt.figure(figsize=[30,10])\n",
    "plt.grid(linewidth=2)\n",
    "plt.title('SPIRou Sky: $R_{Pearson}$ (Event 1)', fontsize=fs)\n",
    "plt.scatter(x1, y1, c=c1, alpha=0.5, s=1, cmap='plasma')\n",
    "plt.xlabel('Days from First Observation ($MJD_0$=58327)', fontsize=fs)\n",
    "plt.ylabel('Unitless', fontsize=fs)\n",
    "plt.tick_params(labelsize=fs)\n",
    "plt.ylim(y_min, y_max)\n",
    "cbar = plt.colorbar()\n",
    "cbar.ax.tick_params(labelsize=fs)"
   ]
  },
  {
   "cell_type": "code",
   "execution_count": null,
   "metadata": {},
   "outputs": [],
   "source": [
    "fs = 45\n",
    "y_min = -0.6\n",
    "y_max = 1.1\n",
    "plt.figure(figsize=[30,10])\n",
    "plt.grid(linewidth=2)\n",
    "plt.title('SPIRou Sky: $R_{Pearson}$ (Event 2)', fontsize=fs)\n",
    "plt.scatter(x2, y2, c=c2, alpha=0.5, s=1, cmap='plasma')\n",
    "plt.xlabel('Days from First Observation ($MJD_0$=58327)', fontsize=fs)\n",
    "plt.ylabel('Unitless', fontsize=fs)\n",
    "plt.tick_params(labelsize=fs)\n",
    "plt.ylim(y_min, y_max)\n",
    "cbar = plt.colorbar()\n",
    "cbar.ax.tick_params(labelsize=fs)"
   ]
  },
  {
   "cell_type": "markdown",
   "metadata": {},
   "source": [
    "## Spearman"
   ]
  },
  {
   "cell_type": "code",
   "execution_count": null,
   "metadata": {},
   "outputs": [],
   "source": [
    "x, y, c = append_all_lines(df, col_sub[10], lines_vac, time_centered, use_mask=0, mask=0)\n",
    "x1, y1, c1 = append_all_lines(df, col_sub[10], lines_vac, time_centered, use_mask=1, mask=mask1)\n",
    "x2, y2, c2 = append_all_lines(df, col_sub[10], lines_vac, time_centered, use_mask=1, mask=mask2)"
   ]
  },
  {
   "cell_type": "code",
   "execution_count": null,
   "metadata": {},
   "outputs": [],
   "source": [
    "fs = 45\n",
    "y_min = -0.75\n",
    "y_max = 1.1\n",
    "plt.figure(figsize=[30,10])\n",
    "plt.grid(linewidth=2)\n",
    "plt.title('SPIRou Sky: $R_{Spearman}$', fontsize=fs)\n",
    "plt.scatter(x, y, c=c, alpha=0.5, s=10, cmap='plasma')\n",
    "plt.vlines(505.5, y_min, y_max, color='C5', linewidth=5, label='Event 1', ls='--')\n",
    "plt.vlines(545, y_min, y_max, color='C7', linewidth=5, label='Event 2', ls='--')\n",
    "plt.xlabel('Days from First Observation ($MJD_0$=58327)', fontsize=fs)\n",
    "plt.ylabel('Unitless', fontsize=fs)\n",
    "plt.tick_params(labelsize=fs)\n",
    "plt.ylim(y_min, y_max)\n",
    "plt.legend(fontsize=fs)\n",
    "cbar = plt.colorbar()\n",
    "cbar.ax.tick_params(labelsize=fs)"
   ]
  },
  {
   "cell_type": "code",
   "execution_count": null,
   "metadata": {},
   "outputs": [],
   "source": [
    "y_0 = np.sort(y.copy()[y > 0])\n",
    "per = 1 - (np.arange(y_0.shape[0]) / y_0.shape[0])\n",
    "fig, axs = plt.subplots(1,2,figsize=[30,10])\n",
    "axs[0].grid()\n",
    "axs[0].plot(y_0, per)\n",
    "axs[0].set_xlabel('Spearman')\n",
    "axs[0].set_ylabel('% of Data > Spearman')\n",
    "axs[1].grid()\n",
    "axs[1].hist(y_0, bins=200)\n",
    "plt.show()"
   ]
  },
  {
   "cell_type": "code",
   "execution_count": null,
   "metadata": {},
   "outputs": [],
   "source": [
    "fs = 45\n",
    "y_min = -0.75\n",
    "y_max = 1.1\n",
    "plt.figure(figsize=[30,10])\n",
    "plt.grid(linewidth=2)\n",
    "plt.title('SPIRou Sky: $R_{Spearman}$ (Event 1)', fontsize=fs)\n",
    "plt.scatter(x1, y1, c=c1, alpha=0.5, s=1, cmap='plasma')\n",
    "plt.xlabel('Days from First Observation ($MJD_0$=58327)', fontsize=fs)\n",
    "plt.ylabel('Unitless', fontsize=fs)\n",
    "plt.tick_params(labelsize=fs)\n",
    "plt.ylim(y_min, y_max)\n",
    "cbar = plt.colorbar()\n",
    "cbar.ax.tick_params(labelsize=fs)"
   ]
  },
  {
   "cell_type": "code",
   "execution_count": null,
   "metadata": {},
   "outputs": [],
   "source": [
    "fs = 45\n",
    "y_min = -0.75\n",
    "y_max = 1.1\n",
    "plt.figure(figsize=[30,10])\n",
    "plt.grid(linewidth=2)\n",
    "plt.title('SPIRou Sky: $R_{Spearman}$ (Event 2)', fontsize=fs)\n",
    "plt.scatter(x2, y2, c=c2, alpha=0.5, s=1, cmap='plasma')\n",
    "plt.xlabel('Days from First Observation ($MJD_0$=58327)', fontsize=fs)\n",
    "plt.ylabel('Unitless', fontsize=fs)\n",
    "plt.tick_params(labelsize=fs)\n",
    "plt.ylim(y_min, y_max)\n",
    "cbar = plt.colorbar()\n",
    "cbar.ax.tick_params(labelsize=fs)"
   ]
  },
  {
   "cell_type": "markdown",
   "metadata": {},
   "source": [
    "## pvalue"
   ]
  },
  {
   "cell_type": "code",
   "execution_count": null,
   "metadata": {},
   "outputs": [],
   "source": [
    "x, y, c = append_all_lines(df, col_sub[11], lines_vac, time_centered, use_mask=0, mask=0)\n",
    "x1, y1, c1 = append_all_lines(df, col_sub[11], lines_vac, time_centered, use_mask=1, mask=mask1)\n",
    "x2, y2, c2 = append_all_lines(df, col_sub[11], lines_vac, time_centered, use_mask=1, mask=mask2)"
   ]
  },
  {
   "cell_type": "code",
   "execution_count": null,
   "metadata": {},
   "outputs": [],
   "source": [
    "y_mod = y.copy()\n",
    "y_mod[y_mod<10**-50] = 10**-50"
   ]
  },
  {
   "cell_type": "code",
   "execution_count": null,
   "metadata": {},
   "outputs": [],
   "source": [
    "fs = 45\n",
    "y_min = 10**-50\n",
    "y_max = 1\n",
    "plt.figure(figsize=[30,10])\n",
    "plt.grid(linewidth=2)\n",
    "plt.title('SPIRou Sky: p-value', fontsize=fs)\n",
    "plt.scatter(x, y_mod, c=c, alpha=0.5, s=10, cmap='plasma')\n",
    "plt.vlines(505.5, y_min, y_max, color='C5', linewidth=5, label='Event 1', ls='--')\n",
    "plt.vlines(545, y_min, y_max, color='C7', linewidth=5, label='Event 2', ls='--')\n",
    "plt.xlabel('Days from First Observation ($MJD_0$=58327)', fontsize=fs)\n",
    "plt.ylabel('Unitless', fontsize=fs)\n",
    "plt.tick_params(labelsize=fs)\n",
    "#plt.ylim(y_min, y_max)\n",
    "plt.yscale('log')\n",
    "plt.legend(fontsize=fs)\n",
    "cbar = plt.colorbar()\n",
    "cbar.ax.tick_params(labelsize=fs)"
   ]
  },
  {
   "cell_type": "code",
   "execution_count": null,
   "metadata": {},
   "outputs": [],
   "source": [
    "y_mod_ = y.copy()\n",
    "y_mod_[y_mod_<10**-30] = 10**-30\n",
    "y_0 = np.log10(np.sort(y_mod_.copy()[y_mod_ > 0]))\n",
    "per = np.arange(y_0.shape[0]) / y_0.shape[0]\n",
    "fig, axs = plt.subplots(1,2,figsize=[30,10])\n",
    "axs[0].grid()\n",
    "axs[0].plot(y_0, per)\n",
    "axs[0].set_xlabel('p-value')\n",
    "axs[0].set_ylabel('% of Data < p-value')\n",
    "axs[1].grid()\n",
    "axs[1].hist(y_0, bins=200)\n",
    "axs[1].set_yscale('log')"
   ]
  },
  {
   "cell_type": "code",
   "execution_count": null,
   "metadata": {},
   "outputs": [],
   "source": [
    "y1_mod = y1.copy()\n",
    "y1_mod[y1_mod<10**-50] = 10**-50"
   ]
  },
  {
   "cell_type": "code",
   "execution_count": null,
   "metadata": {},
   "outputs": [],
   "source": [
    "fs = 45\n",
    "y_min = 10**-50\n",
    "y_max = 1\n",
    "plt.figure(figsize=[30,10])\n",
    "plt.grid(linewidth=2)\n",
    "plt.title('SPIRou Sky: p-value (Event 1)', fontsize=fs)\n",
    "plt.scatter(x1, y1_mod, c=c1, alpha=0.5, s=1, cmap='plasma')\n",
    "plt.xlabel('Days from First Observation ($MJD_0$=58327)', fontsize=fs)\n",
    "plt.ylabel('Unitless', fontsize=fs)\n",
    "plt.tick_params(labelsize=fs)\n",
    "#plt.ylim(y_min, y_max)\n",
    "plt.yscale('log')\n",
    "cbar = plt.colorbar()\n",
    "cbar.ax.tick_params(labelsize=fs)"
   ]
  },
  {
   "cell_type": "code",
   "execution_count": null,
   "metadata": {},
   "outputs": [],
   "source": [
    "y2_mod = y2.copy()\n",
    "y2_mod[y2_mod<10**-50] = 10**-50"
   ]
  },
  {
   "cell_type": "code",
   "execution_count": null,
   "metadata": {},
   "outputs": [],
   "source": [
    "fs = 45\n",
    "y_min = 10**-50\n",
    "y_max = 1\n",
    "plt.figure(figsize=[30,10])\n",
    "plt.grid(linewidth=2)\n",
    "plt.title('SPIRou Sky: p-value (Event 2)', fontsize=fs)\n",
    "plt.scatter(x2, y2_mod, c=c2, alpha=0.5, s=1, cmap='plasma')\n",
    "plt.xlabel('Days from First Observation ($MJD_0$=58327)', fontsize=fs)\n",
    "plt.ylabel('Unitless', fontsize=fs)\n",
    "plt.tick_params(labelsize=fs)\n",
    "#plt.ylim(y_min, y_max)\n",
    "plt.yscale('log')\n",
    "cbar = plt.colorbar()\n",
    "cbar.ax.tick_params(labelsize=fs)"
   ]
  },
  {
   "cell_type": "markdown",
   "metadata": {},
   "source": [
    "## Slope"
   ]
  },
  {
   "cell_type": "code",
   "execution_count": null,
   "metadata": {},
   "outputs": [],
   "source": [
    "x, y, c = append_all_lines(df, col_sub[12], lines_vac, time_centered, use_mask=0, mask=0)\n",
    "x1, y1, c1 = append_all_lines(df, col_sub[12], lines_vac, time_centered, use_mask=1, mask=mask1)\n",
    "x2, y2, c2 = append_all_lines(df, col_sub[12], lines_vac, time_centered, use_mask=1, mask=mask2)"
   ]
  },
  {
   "cell_type": "code",
   "execution_count": null,
   "metadata": {},
   "outputs": [],
   "source": [
    "fs = 45\n",
    "y_min = -10**2.5\n",
    "y_max = 10**2.5\n",
    "plt.figure(figsize=[30,10])\n",
    "plt.grid(linewidth=2)\n",
    "plt.title('SPIRou Sky: $m$', fontsize=fs)\n",
    "plt.scatter(x, y, c=c, alpha=0.5, s=10, cmap='plasma')\n",
    "plt.vlines(505.5, y_min, y_max, color='C5', linewidth=5, label='Event 1', ls='--')\n",
    "plt.vlines(545, y_min, y_max, color='C7', linewidth=5, label='Event 2', ls='--')\n",
    "plt.xlabel('Days from First Observation ($MJD_0$=58327)', fontsize=fs)\n",
    "plt.ylabel('Relative Flux / $\\mathring{A}$', fontsize=fs)\n",
    "plt.tick_params(labelsize=fs)\n",
    "plt.ylim(y_min, y_max)\n",
    "plt.yscale('symlog')\n",
    "plt.legend(fontsize=fs)\n",
    "cbar = plt.colorbar()\n",
    "cbar.ax.tick_params(labelsize=fs)"
   ]
  },
  {
   "cell_type": "code",
   "execution_count": null,
   "metadata": {},
   "outputs": [],
   "source": [
    "fs = 45\n",
    "y_min = -10**2.5\n",
    "y_max = 10**2.5\n",
    "plt.figure(figsize=[30,10])\n",
    "plt.grid(linewidth=2)\n",
    "plt.title('SPIRou Sky: $m$ (Event 1)', fontsize=fs)\n",
    "plt.scatter(x1, y1, c=c1, alpha=0.5, s=1, cmap='plasma')\n",
    "plt.xlabel('Days from First Observation ($MJD_0$=58327)', fontsize=fs)\n",
    "plt.ylabel('Relative Flux / $\\mathring{A}$', fontsize=fs)\n",
    "plt.tick_params(labelsize=fs)\n",
    "plt.ylim(y_min, y_max)\n",
    "plt.yscale('symlog')\n",
    "cbar = plt.colorbar()\n",
    "cbar.ax.tick_params(labelsize=fs)"
   ]
  },
  {
   "cell_type": "code",
   "execution_count": null,
   "metadata": {},
   "outputs": [],
   "source": [
    "fs = 45\n",
    "y_min = -10**2.5\n",
    "y_max = 10**2.5\n",
    "plt.figure(figsize=[30,10])\n",
    "plt.grid(linewidth=2)\n",
    "plt.title('SPIRou Sky: $m$ (Event 2)', fontsize=fs)\n",
    "plt.scatter(x2, y2, c=c2, alpha=0.5, s=1, cmap='plasma')\n",
    "plt.xlabel('Days from First Observation ($MJD_0$=58327)', fontsize=fs)\n",
    "plt.ylabel('Relative Flux / $\\mathring{A}$', fontsize=fs)\n",
    "plt.tick_params(labelsize=fs)\n",
    "plt.ylim(y_min, y_max)\n",
    "plt.yscale('symlog')\n",
    "cbar = plt.colorbar()\n",
    "cbar.ax.tick_params(labelsize=fs)"
   ]
  },
  {
   "cell_type": "markdown",
   "metadata": {},
   "source": [
    "## Intercept"
   ]
  },
  {
   "cell_type": "code",
   "execution_count": null,
   "metadata": {},
   "outputs": [],
   "source": [
    "x, y, c = append_all_lines(df, col_sub[13], lines_vac, time_centered, use_mask=0, mask=0)\n",
    "x1, y1, c1 = append_all_lines(df, col_sub[13], lines_vac, time_centered, use_mask=1, mask=mask1)\n",
    "x2, y2, c2 = append_all_lines(df, col_sub[13], lines_vac, time_centered, use_mask=1, mask=mask2)"
   ]
  },
  {
   "cell_type": "code",
   "execution_count": null,
   "metadata": {},
   "outputs": [],
   "source": [
    "fs = 45\n",
    "y_min = -10**2.75\n",
    "y_max = 10**2.75\n",
    "plt.figure(figsize=[30,10])\n",
    "plt.grid(linewidth=2)\n",
    "plt.title('SPIRou Sky: $b$', fontsize=fs)\n",
    "plt.scatter(x, y/10000, c=c, alpha=0.5, s=10, cmap='plasma')\n",
    "plt.vlines(505.5, y_min, y_max, color='C5', linewidth=5, label='Event 1', ls='--')\n",
    "plt.vlines(545, y_min, y_max, color='C7', linewidth=5, label='Event 2', ls='--')\n",
    "plt.xlabel('Days from First Observation ($MJD_0$=58327)', fontsize=fs)\n",
    "plt.ylabel('Wavelength ($\\mu$m)', fontsize=fs)\n",
    "plt.tick_params(labelsize=fs)\n",
    "plt.ylim(y_min, y_max)\n",
    "plt.yscale('symlog')\n",
    "plt.legend(fontsize=fs)\n",
    "cbar = plt.colorbar()\n",
    "cbar.ax.tick_params(labelsize=fs)"
   ]
  },
  {
   "cell_type": "code",
   "execution_count": null,
   "metadata": {},
   "outputs": [],
   "source": [
    "fs = 45\n",
    "y_min = -10**2.75\n",
    "y_max = 10**2.75\n",
    "plt.figure(figsize=[30,10])\n",
    "plt.grid(linewidth=2)\n",
    "plt.title('SPIRou Sky: $b$ (Event 1)', fontsize=fs)\n",
    "plt.scatter(x1, y1/10000, c=c1, alpha=0.5, s=1, cmap='plasma')\n",
    "plt.xlabel('Days from First Observation ($MJD_0$=58327)', fontsize=fs)\n",
    "plt.ylabel('Wavelength ($\\mu$m)', fontsize=fs)\n",
    "plt.tick_params(labelsize=fs)\n",
    "plt.ylim(y_min, y_max)\n",
    "plt.yscale('symlog')\n",
    "cbar = plt.colorbar()\n",
    "cbar.ax.tick_params(labelsize=fs)"
   ]
  },
  {
   "cell_type": "code",
   "execution_count": null,
   "metadata": {},
   "outputs": [],
   "source": [
    "fs = 45\n",
    "y_min = -10**2.75\n",
    "y_max = 10**2.75\n",
    "plt.figure(figsize=[30,10])\n",
    "plt.grid(linewidth=2)\n",
    "plt.title('SPIRou Sky: $b$ (Event 2)', fontsize=fs)\n",
    "plt.scatter(x2, y2/10000, c=c2, alpha=0.5, s=1, cmap='plasma')\n",
    "plt.xlabel('Days from First Observation ($MJD_0$=58327)', fontsize=fs)\n",
    "plt.ylabel('Wavelength ($\\mu$m)', fontsize=fs)\n",
    "plt.tick_params(labelsize=fs)\n",
    "plt.ylim(y_min, y_max)\n",
    "plt.yscale('symlog')\n",
    "cbar = plt.colorbar()\n",
    "cbar.ax.tick_params(labelsize=fs)"
   ]
  },
  {
   "cell_type": "markdown",
   "metadata": {},
   "source": [
    "## Peak Ratio"
   ]
  },
  {
   "cell_type": "code",
   "execution_count": null,
   "metadata": {},
   "outputs": [],
   "source": [
    "x, y, c = append_all_lines(df, col_sub[18]+'_ratio', lines_vac, time_centered, use_mask=0, mask=0)\n",
    "x1, y1, c1 = append_all_lines(df, col_sub[18]+'_ratio', lines_vac, time_centered, use_mask=1, mask=mask1)\n",
    "x2, y2, c2 = append_all_lines(df, col_sub[18]+'_ratio', lines_vac, time_centered, use_mask=1, mask=mask2)"
   ]
  },
  {
   "cell_type": "code",
   "execution_count": null,
   "metadata": {},
   "outputs": [],
   "source": [
    "fs = 30\n",
    "y_min = 10**-5\n",
    "y_max = 10**7\n",
    "plt.figure(figsize=[30,10])\n",
    "plt.grid(linewidth=2)\n",
    "plt.title('SPIRou Sky: Peak Ratio', fontsize=fs)\n",
    "plt.scatter(x, y, c=c, alpha=0.5, s=10, cmap='plasma')\n",
    "plt.vlines(505.5, y_min, y_max, color='C5', linewidth=5, label='Event 1', ls='--')\n",
    "plt.vlines(545, y_min, y_max, color='C7', linewidth=5, label='Event 2', ls='--')\n",
    "plt.xlabel('Days from First Observation ($MJD_0$=58327)', fontsize=fs)\n",
    "plt.ylabel('Unitless', fontsize=fs)\n",
    "plt.tick_params(labelsize=fs)\n",
    "plt.ylim(y_min, y_max)\n",
    "plt.yscale('log')\n",
    "plt.legend(fontsize=fs)\n",
    "cbar = plt.colorbar()\n",
    "cbar.ax.tick_params(labelsize=fs)"
   ]
  },
  {
   "cell_type": "code",
   "execution_count": null,
   "metadata": {},
   "outputs": [],
   "source": [
    "fs = 30\n",
    "y_min = 10**-5\n",
    "y_max = 10**7\n",
    "plt.figure(figsize=[30,10])\n",
    "plt.grid(linewidth=2)\n",
    "plt.title('SPIRou Sky: Peak Ratio (Event 1)', fontsize=fs)\n",
    "plt.scatter(x1, y1, c=c1, alpha=0.5, s=1, cmap='plasma')\n",
    "plt.hlines(1, 504, 507, ls='--', color='C9')\n",
    "plt.hlines(10, 504, 507, ls='--', color='C0')\n",
    "plt.hlines(0.1, 504, 507, ls='--', color='C0')\n",
    "plt.xlabel('Days from First Observation ($MJD_0$=58327)', fontsize=fs)\n",
    "plt.ylabel('Unitless', fontsize=fs)\n",
    "plt.tick_params(labelsize=fs)\n",
    "plt.ylim(y_min, y_max)\n",
    "plt.yscale('log')\n",
    "cbar = plt.colorbar()\n",
    "cbar.ax.tick_params(labelsize=fs)"
   ]
  },
  {
   "cell_type": "code",
   "execution_count": null,
   "metadata": {},
   "outputs": [],
   "source": [
    "fs = 30\n",
    "y_min = 10**-5\n",
    "y_max = 10**7\n",
    "plt.figure(figsize=[30,10])\n",
    "plt.grid(linewidth=2)\n",
    "plt.title('SPIRou Sky: Peak Ratio (Event 2)', fontsize=fs)\n",
    "plt.scatter(x2, y2, c=c2, alpha=0.5, s=1, cmap='plasma')\n",
    "plt.hlines(1, 543, 547, ls='--', color='C9')\n",
    "plt.hlines(10, 543, 547, ls='--', color='C0')\n",
    "plt.hlines(0.1, 543, 547, ls='--', color='C0')\n",
    "plt.xlabel('Days from First Observation ($MJD_0$=58327)', fontsize=fs)\n",
    "plt.ylabel('Unitless', fontsize=fs)\n",
    "plt.tick_params(labelsize=fs)\n",
    "plt.ylim(y_min, y_max)\n",
    "plt.yscale('log')\n",
    "cbar = plt.colorbar()\n",
    "cbar.ax.tick_params(labelsize=fs)"
   ]
  },
  {
   "cell_type": "code",
   "execution_count": null,
   "metadata": {},
   "outputs": [],
   "source": []
  }
 ],
 "metadata": {
  "kernelspec": {
   "display_name": "Python 3 (ipykernel)",
   "language": "python",
   "name": "python3"
  },
  "language_info": {
   "codemirror_mode": {
    "name": "ipython",
    "version": 3
   },
   "file_extension": ".py",
   "mimetype": "text/x-python",
   "name": "python",
   "nbconvert_exporter": "python",
   "pygments_lexer": "ipython3",
   "version": "3.9.12"
  }
 },
 "nbformat": 4,
 "nbformat_minor": 2
}
