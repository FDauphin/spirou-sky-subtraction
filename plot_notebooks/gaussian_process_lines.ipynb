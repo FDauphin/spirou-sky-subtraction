{
 "cells": [
  {
   "cell_type": "markdown",
   "id": "0f76de7b",
   "metadata": {},
   "source": [
    "## Imports"
   ]
  },
  {
   "cell_type": "code",
   "execution_count": null,
   "id": "76325e91",
   "metadata": {},
   "outputs": [],
   "source": [
    "import numpy as np\n",
    "import matplotlib.pyplot as plt\n",
    "import pandas as pd\n",
    "\n",
    "from sklearn.gaussian_process import GaussianProcessRegressor\n",
    "from sklearn.gaussian_process.kernels import RBF, WhiteKernel, ExpSineSquared, RationalQuadratic"
   ]
  },
  {
   "cell_type": "markdown",
   "id": "090e96e4",
   "metadata": {},
   "source": [
    "## Load data"
   ]
  },
  {
   "cell_type": "code",
   "execution_count": null,
   "id": "e4ff0c77",
   "metadata": {},
   "outputs": [],
   "source": [
    "results_path = '../results/'\n",
    "df = pd.read_csv(f'{results_path}/lines_norm_gdl_fit.csv', index_col=0).sort_values(by='spec_mjd')"
   ]
  },
  {
   "cell_type": "code",
   "execution_count": null,
   "id": "584bb442",
   "metadata": {},
   "outputs": [],
   "source": [
    "df['17653.222_amp1']"
   ]
  },
  {
   "cell_type": "code",
   "execution_count": null,
   "id": "3a854fc7",
   "metadata": {},
   "outputs": [],
   "source": [
    "time_centered = df['spec_mjd'] - int(df['spec_mjd'].min())"
   ]
  },
  {
   "cell_type": "code",
   "execution_count": null,
   "id": "a7536c2e",
   "metadata": {},
   "outputs": [],
   "source": [
    "mask1_1 = (time_centered > 504) & (time_centered < 504.5)\n",
    "mask1_2 = (time_centered > 504.58) & (time_centered < 505.515)\n",
    "mask1_3 = (time_centered > 505.58) & (time_centered < 506.578)\n",
    "mask1_4 = (time_centered > 506.61) & (time_centered < 507)\n",
    "mask1 = mask1_1 | mask1_2 | mask1_3 | mask1_4 #32%\n",
    "mask2 = (time_centered > 543) & (time_centered < 547)"
   ]
  },
  {
   "cell_type": "code",
   "execution_count": null,
   "id": "8f3e6b8d",
   "metadata": {},
   "outputs": [],
   "source": [
    "plt.figure(figsize=[20,10])\n",
    "plt.scatter(time_centered[mask1], df['17653.222_sum'][mask1])"
   ]
  },
  {
   "cell_type": "code",
   "execution_count": null,
   "id": "d95c54ec",
   "metadata": {},
   "outputs": [],
   "source": [
    "X = time_centered[mask1].values.reshape(-1, 1)\n",
    "y = df['17653.222_sum'][mask1].values\n",
    "y = y / np.median(y)\n",
    "y = y - y.mean()\n",
    "X_train = X[20:320:2]\n",
    "y_train = y[20:320:2]"
   ]
  },
  {
   "cell_type": "code",
   "execution_count": null,
   "id": "e24fbd08",
   "metadata": {},
   "outputs": [],
   "source": [
    "X_train.shape"
   ]
  },
  {
   "cell_type": "code",
   "execution_count": null,
   "id": "3bda2ba7",
   "metadata": {},
   "outputs": [],
   "source": [
    "plt.figure(figsize=[30,10])\n",
    "plt.plot(X, y)\n",
    "plt.scatter(X_train, y_train, color='C1')"
   ]
  },
  {
   "cell_type": "markdown",
   "id": "089a9989",
   "metadata": {},
   "source": [
    "## GPR"
   ]
  },
  {
   "cell_type": "code",
   "execution_count": null,
   "id": "8d24bb4a",
   "metadata": {},
   "outputs": [],
   "source": [
    "length_bounds = (1e-1, 1e1)\n",
    "period_bounds = (1e-1, 1e1)\n",
    "noise_bounds = (1e-3, 1e3)\n",
    "\n",
    "kernel_rbf = 1 * RBF(length_scale=1.0, length_scale_bounds=length_bounds)\n",
    "kernel_sine = 1 * ExpSineSquared(length_scale=1.0, periodicity=1.0, \n",
    "                                 length_scale_bounds=length_bounds, periodicity_bounds=period_bounds)\n",
    "kernel_rq = 1 * RationalQuadratic(length_scale=1.0, alpha=1.0,\n",
    "                                  length_scale_bounds=length_bounds, alpha_bounds=period_bounds) \n",
    "kernel_noise =  WhiteKernel(noise_level=0.1**2, noise_level_bounds=noise_bounds)\n",
    "\n",
    "kernel = kernel_sine + kernel_noise\n",
    "gaussian_process = GaussianProcessRegressor(kernel=kernel, n_restarts_optimizer=100)"
   ]
  },
  {
   "cell_type": "code",
   "execution_count": null,
   "id": "954e15ec",
   "metadata": {},
   "outputs": [],
   "source": [
    "gaussian_process.fit(X_train, y_train)\n",
    "gaussian_process.kernel_"
   ]
  },
  {
   "cell_type": "code",
   "execution_count": null,
   "id": "bcd6e66f",
   "metadata": {},
   "outputs": [],
   "source": [
    "X_test = np.linspace(X.min()-1, X.max()+1, 2000).reshape(-1,1)\n",
    "mean_prediction, std_prediction = gaussian_process.predict(X_test, return_std=True)\n",
    "\n",
    "plt.figure(figsize=[30,10])\n",
    "plt.plot(X, y, linestyle=\"dotted\")\n",
    "plt.scatter(X_train, y_train, label=\"Estimated total flux contributions\")\n",
    "plt.plot(X_test, mean_prediction, label=\"Mean prediction\", color='C1')\n",
    "plt.fill_between(\n",
    "    X_test.ravel(),\n",
    "    mean_prediction - 1.96 * std_prediction,\n",
    "    mean_prediction + 1.96 * std_prediction,\n",
    "    alpha=0.5,\n",
    "    label=r\"95% confidence interval\", color='C1'\n",
    ")\n",
    "#plt.xlim(504, 504.4)\n",
    "plt.tick_params(labelsize=30)\n",
    "plt.legend(fontsize=30)\n",
    "plt.xlabel(\"Time since First Observation ($MJD_0$=58327)\", fontsize=30)\n",
    "plt.ylabel(\"Normalized Flux\", fontsize=30)\n",
    "_ = plt.title(\"Gaussian Process Regression on 1.7653${\\mu}m$ Total Flux Contributions\", fontsize=30)"
   ]
  },
  {
   "cell_type": "code",
   "execution_count": null,
   "id": "729d94cf",
   "metadata": {},
   "outputs": [],
   "source": [
    "gp_samples = gaussian_process.sample_y(X_test, n_samples=10).T"
   ]
  },
  {
   "cell_type": "code",
   "execution_count": null,
   "id": "aa8e0f8b",
   "metadata": {},
   "outputs": [],
   "source": [
    "plt.figure(figsize=[30,10])\n",
    "for gp_sample in gp_samples:\n",
    "    plt.plot(X_test, gp_sample)"
   ]
  },
  {
   "cell_type": "code",
   "execution_count": null,
   "id": "b0c03293",
   "metadata": {},
   "outputs": [],
   "source": []
  }
 ],
 "metadata": {
  "kernelspec": {
   "display_name": "Python 3 (ipykernel)",
   "language": "python",
   "name": "python3"
  },
  "language_info": {
   "codemirror_mode": {
    "name": "ipython",
    "version": 3
   },
   "file_extension": ".py",
   "mimetype": "text/x-python",
   "name": "python",
   "nbconvert_exporter": "python",
   "pygments_lexer": "ipython3",
   "version": "3.9.12"
  }
 },
 "nbformat": 4,
 "nbformat_minor": 5
}
