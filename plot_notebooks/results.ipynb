{
 "cells": [
  {
   "cell_type": "markdown",
   "metadata": {},
   "source": [
    "## Imports"
   ]
  },
  {
   "cell_type": "code",
   "execution_count": null,
   "metadata": {},
   "outputs": [],
   "source": [
    "import os\n",
    "from glob import glob\n",
    "from tqdm import tqdm\n",
    "\n",
    "import numpy as np\n",
    "from matplotlib import pyplot as plt\n",
    "import pandas as pd\n",
    "from scipy.integrate import simpson\n",
    "from scipy.optimize import curve_fit\n",
    "from scipy.signal import argrelextrema\n",
    "from scipy.stats import spearmanr, median_abs_deviation\n",
    "\n",
    "from astropy.io import fits\n",
    "from astropy.convolution import convolve, Gaussian1DKernel\n",
    "from astropy.stats import sigma_clipped_stats\n",
    "\n",
    "%matplotlib inline"
   ]
  },
  {
   "cell_type": "code",
   "execution_count": null,
   "metadata": {},
   "outputs": [],
   "source": [
    "plt.rcParams.update({'font.size': 20})"
   ]
  },
  {
   "cell_type": "markdown",
   "metadata": {},
   "source": [
    "## Load Lines and Data"
   ]
  },
  {
   "cell_type": "code",
   "execution_count": null,
   "metadata": {},
   "outputs": [],
   "source": [
    "data_path = '../data'\n",
    "lines_vac, lines_air = np.loadtxt(f'{data_path}/hydroxyl_lines_rousselot_2000.txt').T"
   ]
  },
  {
   "cell_type": "code",
   "execution_count": null,
   "metadata": {},
   "outputs": [],
   "source": [
    "results_path = '../results'\n",
    "df = pd.read_csv(f'{results_path}/lines_norm_gdl_fit.csv', index_col=0)\n",
    "columns = df.columns"
   ]
  },
  {
   "cell_type": "code",
   "execution_count": null,
   "metadata": {},
   "outputs": [],
   "source": [
    "col_sub = []\n",
    "for column in columns[9:28]:\n",
    "    if 'sigma1_cov' in column or 'sigma2_cov' in column:\n",
    "        col_sub.append(column[9:])\n",
    "    else:\n",
    "        col_sub.append(column.split('_')[1])"
   ]
  },
  {
   "cell_type": "code",
   "execution_count": null,
   "metadata": {},
   "outputs": [],
   "source": [
    "col_sub = np.array(col_sub)"
   ]
  },
  {
   "cell_type": "code",
   "execution_count": null,
   "metadata": {},
   "outputs": [],
   "source": [
    "col_sub"
   ]
  },
  {
   "cell_type": "code",
   "execution_count": null,
   "metadata": {},
   "outputs": [],
   "source": [
    "time_centered = df['spec_mjd'] - int(df['spec_mjd'].min())"
   ]
  },
  {
   "cell_type": "code",
   "execution_count": null,
   "metadata": {},
   "outputs": [],
   "source": [
    "mask1_1 = (time_centered > 504) & (time_centered < 504.5)\n",
    "mask1_2 = (time_centered > 504.58) & (time_centered < 505.515)\n",
    "mask1_3 = (time_centered > 505.58) & (time_centered < 506.578)\n",
    "mask1_4 = (time_centered > 506.61) & (time_centered < 507)\n",
    "mask1 = mask1_1 | mask1_2 | mask1_3 | mask1_4\n",
    "mask2 = (time_centered > 543) & (time_centered < 547)"
   ]
  },
  {
   "cell_type": "markdown",
   "metadata": {},
   "source": [
    "## Medians"
   ]
  },
  {
   "cell_type": "code",
   "execution_count": null,
   "metadata": {},
   "outputs": [],
   "source": [
    "columns[:9]"
   ]
  },
  {
   "cell_type": "code",
   "execution_count": null,
   "metadata": {
    "scrolled": false
   },
   "outputs": [],
   "source": [
    "fs = 45\n",
    "plt.figure(figsize=[30,10])\n",
    "plt.grid(linewidth=2)\n",
    "plt.title('SPIRou Sky Medians', fontsize=fs)\n",
    "plt.scatter(time_centered, df[columns[3]], label='spectrum', alpha=0.5, color='C0', s=250)\n",
    "plt.vlines(505.5, df[columns[3]].min(), df[columns[3]].max(), color='C5', linewidth=5, label='Event 1')\n",
    "plt.vlines(545, df[columns[3]].min(), df[columns[3]].max(), color='C7', linewidth=5, label='Event 2')\n",
    "plt.xlabel('Days from First Observation ($MJD_0$=58327)', fontsize=fs)\n",
    "plt.ylabel('Flux', fontsize=fs)\n",
    "plt.tick_params(labelsize=fs)\n",
    "plt.yscale('log')\n",
    "plt.ylim(10**-9, 10**-4)\n",
    "plt.legend(fontsize=fs)"
   ]
  },
  {
   "cell_type": "code",
   "execution_count": null,
   "metadata": {},
   "outputs": [],
   "source": [
    "fs = 45\n",
    "plt.figure(figsize=[30,10])\n",
    "plt.grid(linewidth=2)\n",
    "plt.title('SPIRou Sky Medians (Event 1)', fontsize=fs)\n",
    "plt.scatter(time_centered[mask1], df[columns[3]][mask1], label='Event 1', alpha=0.5, color='C5', s=250)\n",
    "plt.xlabel('Days from First Observation ($MJD_0$=58327)', fontsize=fs)\n",
    "plt.ylabel('Flux', fontsize=fs)\n",
    "plt.tick_params(labelsize=fs)\n",
    "plt.yscale('log')\n",
    "plt.ylim(10**-9, 10**-4)\n",
    "plt.legend(fontsize=fs)"
   ]
  },
  {
   "cell_type": "code",
   "execution_count": null,
   "metadata": {},
   "outputs": [],
   "source": [
    "fs = 45\n",
    "plt.figure(figsize=[30,10])\n",
    "plt.grid(linewidth=2)\n",
    "plt.title('SPIRou Sky Medians (Event 2)', fontsize=fs)\n",
    "plt.scatter(time_centered[mask2], df[columns[3]][mask2], label='Event 2', alpha=0.5, color='C7', s=250)\n",
    "plt.xlabel('Days from First Observation ($MJD_0$=58327)', fontsize=fs)\n",
    "plt.ylabel('Flux', fontsize=fs)\n",
    "plt.tick_params(labelsize=fs)\n",
    "plt.yscale('log')\n",
    "plt.ylim(10**-9, 10**-4)\n",
    "plt.legend(fontsize=fs)"
   ]
  },
  {
   "cell_type": "markdown",
   "metadata": {},
   "source": [
    "## Bands"
   ]
  },
  {
   "cell_type": "code",
   "execution_count": null,
   "metadata": {},
   "outputs": [],
   "source": [
    "fs = 45\n",
    "plt.figure(figsize=[30,10])\n",
    "plt.grid(linewidth=2)\n",
    "plt.title('SPIRou Sky Band Medians (Normalized)', fontsize=fs)\n",
    "plt.scatter(time_centered, df[columns[4]], label='J Band', alpha=0.5, color='C1', s=250)\n",
    "plt.scatter(time_centered, df[columns[5]], label='H Band', alpha=0.5, color='C2', s=250)\n",
    "plt.scatter(time_centered, df[columns[6]], label='K Band', alpha=0.5, color='C3', s=250)\n",
    "plt.xlabel('Days from First Observation ($MJD_0$=58327)', fontsize=fs)\n",
    "plt.ylabel('Flux', fontsize=fs)\n",
    "plt.tick_params(labelsize=fs)\n",
    "plt.yscale('log')\n",
    "plt.ylim(10**-2, 10**1.5)\n",
    "plt.legend(fontsize=fs)"
   ]
  },
  {
   "cell_type": "code",
   "execution_count": null,
   "metadata": {},
   "outputs": [],
   "source": [
    "fs = 45\n",
    "plt.figure(figsize=[30,10])\n",
    "plt.grid(linewidth=2)\n",
    "plt.title('SPIRou Sky Band Medians (Event 1, Normalized)', fontsize=fs)\n",
    "plt.scatter(time_centered[mask1], df[columns[4]][mask1], label='J Band', alpha=0.5, color='C1', s=250)\n",
    "plt.scatter(time_centered[mask1], df[columns[5]][mask1], label='H Band', alpha=0.5, color='C2', s=250)\n",
    "plt.scatter(time_centered[mask1], df[columns[6]][mask1], label='K Band', alpha=0.5, color='C3', s=250)\n",
    "plt.xlabel('Days from First Observation ($MJD_0$=58327)', fontsize=fs)\n",
    "plt.ylabel('Flux', fontsize=fs)\n",
    "plt.tick_params(labelsize=fs)\n",
    "plt.yscale('log')\n",
    "plt.ylim(10**-2, 10**1.5)\n",
    "plt.legend(fontsize=fs)"
   ]
  },
  {
   "cell_type": "code",
   "execution_count": null,
   "metadata": {},
   "outputs": [],
   "source": [
    "fs = 45\n",
    "plt.figure(figsize=[30,10])\n",
    "plt.grid(linewidth=2)\n",
    "plt.title('SPIRou Sky Band Medians (Event 2, Normalized)', fontsize=fs)\n",
    "plt.scatter(time_centered[mask2], df[columns[4]][mask2], label='J Band', alpha=0.5, color='C1', s=250)\n",
    "plt.scatter(time_centered[mask2], df[columns[5]][mask2], label='H Band', alpha=0.5, color='C2', s=250)\n",
    "plt.scatter(time_centered[mask2], df[columns[6]][mask2], label='K Band', alpha=0.5, color='C3', s=250)\n",
    "plt.xlabel('Days from First Observation ($MJD_0$=58327)', fontsize=fs)\n",
    "plt.ylabel('Flux', fontsize=fs)\n",
    "plt.tick_params(labelsize=fs)\n",
    "plt.yscale('log')\n",
    "plt.ylim(10**-2, 10**1.5)\n",
    "plt.legend(fontsize=fs)"
   ]
  },
  {
   "cell_type": "markdown",
   "metadata": {},
   "source": [
    "## K/J"
   ]
  },
  {
   "cell_type": "code",
   "execution_count": null,
   "metadata": {},
   "outputs": [],
   "source": [
    "fs = 45\n",
    "plt.figure(figsize=[30,10])\n",
    "plt.grid(linewidth=2)\n",
    "plt.title('SPIRou Sky: K/J', fontsize=fs)\n",
    "plt.scatter(time_centered, df[columns[7]], label='spectrum', alpha=0.5, color='C0', s=250)\n",
    "plt.vlines(505.5, 0.271, df[columns[7]].max(), color='C5', linewidth=5, label='Event 1')\n",
    "plt.vlines(545, 0.271, df[columns[7]].max(), color='C7', linewidth=5, label='Event 2')\n",
    "plt.xlabel('Days from First Observation ($MJD_0$=58327)', fontsize=fs)\n",
    "plt.ylabel('Unitless', fontsize=fs)\n",
    "plt.tick_params(labelsize=fs)\n",
    "plt.yscale('log')\n",
    "plt.ylim(10**-1, 10**2)\n",
    "plt.legend(fontsize=fs)"
   ]
  },
  {
   "cell_type": "code",
   "execution_count": null,
   "metadata": {},
   "outputs": [],
   "source": [
    "fs = 45\n",
    "plt.figure(figsize=[30,10])\n",
    "plt.grid(linewidth=2)\n",
    "plt.title('SPIRou Sky: K/J (Event 1)', fontsize=fs)\n",
    "plt.scatter(time_centered[mask1], df[columns[7]][mask1], label='Event 1', alpha=0.5, color='C5', s=250)\n",
    "plt.xlabel('Days from First Observation ($MJD_0$=58327)', fontsize=fs)\n",
    "plt.ylabel('Unitless', fontsize=fs)\n",
    "plt.tick_params(labelsize=fs)\n",
    "plt.yscale('log')\n",
    "plt.ylim(10**-1, 10**2)\n",
    "plt.legend(fontsize=fs)"
   ]
  },
  {
   "cell_type": "code",
   "execution_count": null,
   "metadata": {},
   "outputs": [],
   "source": [
    "fs = 45\n",
    "plt.figure(figsize=[30,10])\n",
    "plt.grid(linewidth=2)\n",
    "plt.title('SPIRou Sky: K/J (Event 2)', fontsize=fs)\n",
    "plt.scatter(time_centered[mask2], df[columns[7]][mask2], label='Event 2', alpha=0.5, color='C7', s=250)\n",
    "plt.xlabel('Days from First Observation ($MJD_0$=58327)', fontsize=fs)\n",
    "plt.ylabel('Unitless', fontsize=fs)\n",
    "plt.tick_params(labelsize=fs)\n",
    "plt.yscale('log')\n",
    "plt.ylim(10**-1, 10**2)\n",
    "plt.legend(fontsize=fs)"
   ]
  },
  {
   "cell_type": "markdown",
   "metadata": {},
   "source": [
    "## Airmass"
   ]
  },
  {
   "cell_type": "code",
   "execution_count": null,
   "metadata": {},
   "outputs": [],
   "source": [
    "fs = 45\n",
    "plt.figure(figsize=[30,10])\n",
    "plt.grid(linewidth=2)\n",
    "plt.title('SPIRou Sky: Airmass', fontsize=fs)\n",
    "plt.scatter(time_centered, df[columns[8]], label='spectrum', alpha=0.5, color='C0', s=250)\n",
    "plt.vlines(505.5, 1, df[columns[8]].max(), color='C5', linewidth=5, label='Event 1')\n",
    "plt.vlines(545, 1, df[columns[8]].max(), color='C7', linewidth=5, label='Event 2')\n",
    "plt.xlabel('Days from First Observation ($MJD_0$=58327)', fontsize=fs)\n",
    "plt.ylabel('Blank', fontsize=fs)\n",
    "plt.tick_params(labelsize=fs)\n",
    "#plt.yscale('log')\n",
    "plt.ylim(0, 4)\n",
    "plt.legend(fontsize=fs)"
   ]
  },
  {
   "cell_type": "code",
   "execution_count": null,
   "metadata": {},
   "outputs": [],
   "source": [
    "fs = 45\n",
    "plt.figure(figsize=[30,10])\n",
    "plt.grid(linewidth=2)\n",
    "plt.title('SPIRou Sky: Airmass (Event 1)', fontsize=fs)\n",
    "plt.scatter(time_centered[mask1], df[columns[8]][mask1], label='Event 1', alpha=0.5, color='C5', s=250)\n",
    "plt.xlabel('Days from First Observation ($MJD_0$=58327)', fontsize=fs)\n",
    "plt.ylabel('Blank', fontsize=fs)\n",
    "plt.tick_params(labelsize=fs)\n",
    "#plt.yscale('log')\n",
    "plt.ylim(0, 4)\n",
    "plt.legend(fontsize=fs)"
   ]
  },
  {
   "cell_type": "code",
   "execution_count": null,
   "metadata": {},
   "outputs": [],
   "source": [
    "fs = 45\n",
    "plt.figure(figsize=[30,10])\n",
    "plt.grid(linewidth=2)\n",
    "plt.title('SPIRou Sky: Airmass (Event 2)', fontsize=fs)\n",
    "plt.scatter(time_centered[mask2], df[columns[8]][mask2], label='Event 1', alpha=0.5, color='C7', s=250)\n",
    "plt.xlabel('Days from First Observation ($MJD_0$=58327)', fontsize=fs)\n",
    "plt.ylabel('Blank', fontsize=fs)\n",
    "plt.tick_params(labelsize=fs)\n",
    "#plt.yscale('log')\n",
    "plt.ylim(0, 4)\n",
    "plt.legend(fontsize=fs)"
   ]
  },
  {
   "cell_type": "code",
   "execution_count": null,
   "metadata": {},
   "outputs": [],
   "source": []
  }
 ],
 "metadata": {
  "kernelspec": {
   "display_name": "Python 3 (ipykernel)",
   "language": "python",
   "name": "python3"
  },
  "language_info": {
   "codemirror_mode": {
    "name": "ipython",
    "version": 3
   },
   "file_extension": ".py",
   "mimetype": "text/x-python",
   "name": "python",
   "nbconvert_exporter": "python",
   "pygments_lexer": "ipython3",
   "version": "3.9.12"
  }
 },
 "nbformat": 4,
 "nbformat_minor": 2
}
