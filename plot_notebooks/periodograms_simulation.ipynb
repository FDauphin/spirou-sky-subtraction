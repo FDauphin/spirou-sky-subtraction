{
 "cells": [
  {
   "cell_type": "markdown",
   "id": "b4297aa6",
   "metadata": {},
   "source": [
    "## Imports"
   ]
  },
  {
   "cell_type": "code",
   "execution_count": null,
   "id": "76a8254d",
   "metadata": {},
   "outputs": [],
   "source": [
    "import numpy as np\n",
    "import matplotlib.pyplot as plt \n",
    "from astropy.timeseries import LombScargle\n",
    "from scipy.signal import argrelextrema"
   ]
  },
  {
   "cell_type": "markdown",
   "id": "9dce417e",
   "metadata": {},
   "source": [
    "## Create singal frequency signal"
   ]
  },
  {
   "cell_type": "code",
   "execution_count": null,
   "id": "ffa56cf9",
   "metadata": {},
   "outputs": [],
   "source": [
    "x = 100 * np.sort(np.random.rand(100)) + 0\n",
    "f = np.random.random() * 1000\n",
    "noise = np.random.standard_normal(x.shape)*0.1\n",
    "y = 1*np.sin(2*np.pi*f*x+0)+0\n",
    "y_noise = y + noise"
   ]
  },
  {
   "cell_type": "code",
   "execution_count": null,
   "id": "3de193dd",
   "metadata": {},
   "outputs": [],
   "source": [
    "plt.figure(figsize=[10,5])\n",
    "plt.scatter(x,y_noise)\n",
    "plt.plot(x,y_noise,'--',color='C0')\n",
    "plt.xlabel('Time', fontsize=15)\n",
    "plt.ylabel('Unitless', fontsize=15)\n",
    "plt.title(f'Random Uneven Sine Wave: f={f:.3f}', fontsize=15)\n",
    "plt.tick_params(labelsize=15)"
   ]
  },
  {
   "cell_type": "markdown",
   "id": "c9ce77b4",
   "metadata": {},
   "source": [
    "## LSP"
   ]
  },
  {
   "cell_type": "code",
   "execution_count": null,
   "id": "6bde6d88",
   "metadata": {},
   "outputs": [],
   "source": [
    "frequency, power = LombScargle(x, y_noise).autopower(minimum_frequency=0.001, maximum_frequency=1000)"
   ]
  },
  {
   "cell_type": "code",
   "execution_count": null,
   "id": "3cd58e45",
   "metadata": {},
   "outputs": [],
   "source": [
    "plt.figure(figsize=[10,5])\n",
    "plt.plot(frequency, power)\n",
    "plt.xlabel('Frequency (per time unit)', fontsize=15)\n",
    "plt.ylabel('Relative Power', fontsize=15)\n",
    "plt.title('Lomb-Scargle Periodogram for Random Uneven Sine Wave', fontsize=15)\n",
    "plt.tick_params(labelsize=15)"
   ]
  },
  {
   "cell_type": "markdown",
   "id": "6136a125",
   "metadata": {},
   "source": [
    "## Phase folding"
   ]
  },
  {
   "cell_type": "code",
   "execution_count": null,
   "id": "9712a847",
   "metadata": {},
   "outputs": [],
   "source": [
    "period = 1 / frequency[np.argmax(power)]"
   ]
  },
  {
   "cell_type": "code",
   "execution_count": null,
   "id": "deba9318",
   "metadata": {},
   "outputs": [],
   "source": [
    "plt.figure(figsize=[10,5])\n",
    "plt.scatter((x%period)/period, y_noise)\n",
    "plt.xlabel('Phase', fontsize=15)\n",
    "plt.ylabel('Unitless', fontsize=15)\n",
    "plt.title(f'Random Uneven Sine Wave - Phase Folded: p={period:.3f}', fontsize=15)\n",
    "plt.tick_params(labelsize=15)"
   ]
  },
  {
   "cell_type": "markdown",
   "id": "0859261c",
   "metadata": {},
   "source": [
    "## Create random signal"
   ]
  },
  {
   "cell_type": "code",
   "execution_count": null,
   "id": "07604ddf",
   "metadata": {},
   "outputs": [],
   "source": [
    "def random_signal(size, n, width):\n",
    "    \n",
    "    t = size * np.sort(np.random.rand(size))\n",
    "    t_signal = np.linspace(0,size,size*5)\n",
    "    \n",
    "    amp = np.random.rand(n) * width - width\n",
    "    f = np.random.rand(n) * width\n",
    "    phi = np.random.rand(n) * width - width / 2\n",
    "    offset = np.random.rand(n) * width - width / 2\n",
    "    offset_sum = offset.sum()\n",
    "    noise = np.random.standard_normal(size) * width / 2\n",
    "    \n",
    "    print (f'Amp: {amp}')\n",
    "    print (f'Frequency: {f}')\n",
    "    print (f'Phi: {phi}')\n",
    "    print (f'Offset: {offset}')\n",
    "    \n",
    "    y = np.zeros(size)\n",
    "    y_signal = np.zeros(size*5)\n",
    "    for i in range (n):\n",
    "        y_i = amp[i]*np.sin(2*np.pi*f[i]*t-phi[i])+offset[i]\n",
    "        y_signal_i = amp[i]*np.sin(2*np.pi*f[i]*t_signal-phi[i])+offset[i]\n",
    "        \n",
    "        y += y_i\n",
    "        y_signal += y_signal_i\n",
    "        \n",
    "    y += noise\n",
    "\n",
    "    return t, t_signal, y, y_signal, amp, f, offset_sum, noise"
   ]
  },
  {
   "cell_type": "code",
   "execution_count": null,
   "id": "bd0cb4e1",
   "metadata": {},
   "outputs": [],
   "source": [
    "s = 100\n",
    "n = 3\n",
    "w = 10\n",
    "t, t_signal, y, y_signal, amp, f, offset_sum, noise = random_signal(s, n, w)"
   ]
  },
  {
   "cell_type": "code",
   "execution_count": null,
   "id": "bf0845bd",
   "metadata": {},
   "outputs": [],
   "source": [
    "plt.figure(figsize=[10,5])\n",
    "plt.scatter(t, y, color='C0', label='noisy uneven data')\n",
    "plt.plot(t, y, '--', color='C0', label='noisy uneven data')\n",
    "plt.plot(t, y - noise, color='C1', label='uneven data')\n",
    "plt.plot(t_signal, y_signal, color='C2', label='even data', alpha=0.5)\n",
    "plt.xlabel('Time', fontsize=15)\n",
    "plt.ylabel('Unitless', fontsize=15)\n",
    "plt.title('Random Uneven Complex Signal', fontsize=15)\n",
    "plt.tick_params(labelsize=15)\n",
    "plt.legend()"
   ]
  },
  {
   "cell_type": "markdown",
   "id": "17c1c793",
   "metadata": {},
   "source": [
    "## LSP"
   ]
  },
  {
   "cell_type": "code",
   "execution_count": null,
   "id": "f0798004",
   "metadata": {},
   "outputs": [],
   "source": [
    "frequency, power = LombScargle(t, y).autopower(minimum_frequency=w/100, maximum_frequency=w)"
   ]
  },
  {
   "cell_type": "code",
   "execution_count": null,
   "id": "c11260c6",
   "metadata": {},
   "outputs": [],
   "source": [
    "plt.figure(figsize=[10,5])\n",
    "plt.title('Lomb-Scargle Periodogram for Random Uneven Complex Signal', fontsize=15)\n",
    "plt.xlabel('Frequency (per time unit)', fontsize=15)\n",
    "plt.ylabel('Relative Power', fontsize=15)\n",
    "plt.tick_params(labelsize=15)\n",
    "plt.plot(frequency, power, color='C0') \n",
    "plt.tight_layout()"
   ]
  },
  {
   "cell_type": "code",
   "execution_count": null,
   "id": "dce1bc2e",
   "metadata": {},
   "outputs": [],
   "source": [
    "def find_best_freq(frequency, power, n=1, xlim=None):\n",
    "    \n",
    "    # Find nth best frequencies\n",
    "    arx = argrelextrema(power, np.greater)[0]\n",
    "    best_p_cand = np.sort(power[arx])[::-1][:n]\n",
    "    mask_power = np.isin(power, best_p_cand)\n",
    "    best_fs = frequency[mask_power]\n",
    "    best_ps = power[mask_power]\n",
    "    \n",
    "    # Plot\n",
    "    plt.figure(figsize=[30,10])\n",
    "    plt.scatter(frequency, power) \n",
    "    plt.plot(frequency, power, label='power')\n",
    "    plt.scatter(best_fs, best_ps, color='C2', s=100, label='max')\n",
    "    plt.hlines(np.nanmin(best_ps), frequency.min(), frequency.max(), color='C3', label='cutoff power')\n",
    "    if xlim:\n",
    "        plt.xlim(xlim[0], xlim[1])\n",
    "    plt.legend()\n",
    "    plt.show()\n",
    "    \n",
    "    return best_fs, best_ps"
   ]
  },
  {
   "cell_type": "code",
   "execution_count": null,
   "id": "42355c74",
   "metadata": {},
   "outputs": [],
   "source": [
    "best_fs, best_ps = find_best_freq(frequency, power, n=3)"
   ]
  },
  {
   "cell_type": "code",
   "execution_count": null,
   "id": "c9d213f1",
   "metadata": {},
   "outputs": [],
   "source": [
    "print (best_fs)\n",
    "print (sorted(f))"
   ]
  },
  {
   "cell_type": "markdown",
   "id": "4f7355dd",
   "metadata": {},
   "source": [
    "## Refit Time Series"
   ]
  },
  {
   "cell_type": "code",
   "execution_count": null,
   "id": "fc56174a",
   "metadata": {},
   "outputs": [],
   "source": [
    "ls = LombScargle(t, y)\n",
    "t_forecast = np.linspace(0,s*2,s*10-1)\n",
    "y_fit = np.zeros(t_forecast.shape)\n",
    "for freq in best_fs:\n",
    "    y_fit_f = ls.model(t_forecast, freq)\n",
    "    y_fit += y_fit_f"
   ]
  },
  {
   "cell_type": "code",
   "execution_count": null,
   "id": "f5033936",
   "metadata": {},
   "outputs": [],
   "source": [
    "offset_pred = y_fit[:y_signal.shape[0]]-y_signal\n",
    "offset_mean = offset_pred.mean()\n",
    "offset_std = offset_pred.std()\n",
    "\n",
    "print (offset_sum)\n",
    "print (offset_mean)"
   ]
  },
  {
   "cell_type": "code",
   "execution_count": null,
   "id": "18e8c941",
   "metadata": {
    "scrolled": false
   },
   "outputs": [],
   "source": [
    "plt.figure(figsize=[10,5])\n",
    "#plt.plot(t, y-noise, color='C1', label='uneven data')\n",
    "plt.plot(t_signal, y_signal, color='C2', label='True signal - evenly spaced', alpha=0.75)\n",
    "plt.plot(t_forecast, y_fit-offset_mean, color='C3', label='LSP fit and forecast', alpha=0.75)\n",
    "plt.xlim(90,110)\n",
    "plt.title('Random Even Complex Signal - Fit and Forecast', fontsize=15)\n",
    "plt.xlabel('Time', fontsize=15)\n",
    "plt.ylabel('Unitless', fontsize=15)\n",
    "plt.tick_params(labelsize=15)\n",
    "plt.legend(fontsize=15)"
   ]
  },
  {
   "cell_type": "code",
   "execution_count": null,
   "id": "cccec805",
   "metadata": {},
   "outputs": [],
   "source": [
    "np.corrcoef(y_signal, y_fit[:y_signal.shape[0]])[0, 1]**2"
   ]
  }
 ],
 "metadata": {
  "kernelspec": {
   "display_name": "Python 3 (ipykernel)",
   "language": "python",
   "name": "python3"
  },
  "language_info": {
   "codemirror_mode": {
    "name": "ipython",
    "version": 3
   },
   "file_extension": ".py",
   "mimetype": "text/x-python",
   "name": "python",
   "nbconvert_exporter": "python",
   "pygments_lexer": "ipython3",
   "version": "3.9.12"
  }
 },
 "nbformat": 4,
 "nbformat_minor": 5
}
