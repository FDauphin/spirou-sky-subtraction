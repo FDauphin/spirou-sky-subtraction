{
 "cells": [
  {
   "cell_type": "markdown",
   "id": "1b0fa549",
   "metadata": {},
   "source": [
    "## Imports"
   ]
  },
  {
   "cell_type": "code",
   "execution_count": null,
   "id": "cac64134",
   "metadata": {},
   "outputs": [],
   "source": [
    "from glob import glob\n",
    "\n",
    "import numpy as np\n",
    "import matplotlib.pyplot as plt\n",
    "\n",
    "from astropy.io import fits\n",
    "from astropy.coordinates import SkyCoord\n",
    "from astropy import units as u\n",
    "\n",
    "from ccdproc import ImageFileCollection\n",
    "from tqdm import tqdm"
   ]
  },
  {
   "cell_type": "code",
   "execution_count": null,
   "id": "cb287185",
   "metadata": {},
   "outputs": [],
   "source": [
    "path_to_spirou_sky_data = '/path/to/spirou_sky_data/'\n",
    "collec = ImageFileCollection(path_to_spirou_sky_data,\n",
    "                             keywords=[\"OBJECT\",\"OBJNAME\",\"TELALT\",\"TELAZ\",\"OBJRA\",\"OBJDEC\",\n",
    "                             \"DPRTYPE\",\"TRG_TYPE\",\"MJDMID\"], glob_include=\"*.fits\", ext=0)"
   ]
  },
  {
   "cell_type": "code",
   "execution_count": null,
   "id": "55c09830",
   "metadata": {},
   "outputs": [],
   "source": [
    "table = collec.summary"
   ]
  },
  {
   "cell_type": "code",
   "execution_count": null,
   "id": "b8e306b9",
   "metadata": {},
   "outputs": [],
   "source": [
    "time = table['MJDMID'] - int(table['MJDMID'].min())"
   ]
  },
  {
   "cell_type": "code",
   "execution_count": null,
   "id": "e4f87003",
   "metadata": {},
   "outputs": [],
   "source": [
    "mask1_1 = (time_centered > 504) & (time_centered < 504.5)\n",
    "mask1_2 = (time_centered > 504.58) & (time_centered < 505.515)\n",
    "mask1_3 = (time_centered > 505.58) & (time_centered < 506.578)\n",
    "mask1_4 = (time_centered > 506.61) & (time_centered < 507)\n",
    "mask1 = mask1_1 | mask1_2 | mask1_3 | mask1_4\n",
    "mask2 = (time_centered > 543) & (time_centered < 547)"
   ]
  },
  {
   "cell_type": "markdown",
   "id": "59030fd4",
   "metadata": {},
   "source": [
    "## Coords"
   ]
  },
  {
   "cell_type": "code",
   "execution_count": null,
   "id": "95849aae",
   "metadata": {},
   "outputs": [],
   "source": [
    "plt.figure(figsize=[10,10])\n",
    "plt.scatter(table['TELAZ'][~(mask1|mask2)], table['TELALT'][~(mask1|mask2)], label='All observations', alpha=0.1, s=100)\n",
    "plt.scatter(table['TELAZ'][mask2], table['TELALT'][mask2], color='C1', marker='^', label='Event 2 observations', alpha=0.1, s=100)\n",
    "plt.scatter(table['TELAZ'][mask1], table['TELALT'][mask1], color='C2', marker='h', label='Event 1 observations', alpha=0.1, s=100)\n",
    "plt.title('Sky Observations Altitude-Azimuth Plot', fontsize=20)\n",
    "plt.xlabel('Azimuth (degrees)', fontsize=20)\n",
    "plt.ylabel('Altitude (degrees)', fontsize=20)\n",
    "plt.tick_params(labelsize=20)\n",
    "plt.legend(fontsize=10)"
   ]
  },
  {
   "cell_type": "markdown",
   "id": "35586cd7",
   "metadata": {},
   "source": [
    "## Median Sky"
   ]
  },
  {
   "cell_type": "code",
   "execution_count": null,
   "id": "a5c3983d",
   "metadata": {},
   "outputs": [],
   "source": [
    "path_wave = '../data/spirou_sky_mean_median_stacks.npz'\n",
    "wave = np.load(path_wave)['wavelength']\n",
    "flux_med = np.load(path_wave)['flux_median']\n",
    "flux_mean = np.load(path_wave)['flux_mean']\n",
    "med = np.nanmedian(flux_med)\n",
    "flux_scale = flux_med / med"
   ]
  },
  {
   "cell_type": "code",
   "execution_count": null,
   "id": "2300fa8c",
   "metadata": {},
   "outputs": [],
   "source": [
    "mask_j = (wave > 1.17) & (wave < 1.37)\n",
    "mask_h = (wave > 1.47) & (wave < 1.70)\n",
    "mask_k = (wave > 1.95) & (wave < 2.35)\n",
    "mask_not = ~(mask_j|mask_h|mask_k)"
   ]
  },
  {
   "cell_type": "code",
   "execution_count": null,
   "id": "822c6ca0",
   "metadata": {},
   "outputs": [],
   "source": [
    "lines_vac, lines_air = np.loadtxt('../data/hydroxyl_lines_rousselot_2000.txt').T / 10000"
   ]
  },
  {
   "cell_type": "code",
   "execution_count": null,
   "id": "c333dc1d",
   "metadata": {},
   "outputs": [],
   "source": [
    "plt.figure(figsize=[30,10])\n",
    "plt.title('SPIRou Median Sky Spectra', fontsize=30)\n",
    "plt.scatter(wave[mask_not], flux_scale[mask_not], s=1)\n",
    "plt.scatter(wave[mask_not][1000], flux_scale[mask_not][1000], s=50, label='data', color='C0')\n",
    "plt.scatter(wave[mask_j], flux_scale[mask_j], s=1)\n",
    "plt.scatter(wave[mask_j][0], flux_scale[mask_j][0], s=50, label='J Band', color='C1')\n",
    "plt.scatter(wave[mask_h], flux_scale[mask_h], s=1)\n",
    "plt.scatter(wave[mask_h][7500], flux_scale[mask_h][7500], s=50, label='H Band', color='C2')\n",
    "plt.scatter(wave[mask_k], flux_scale[mask_k], s=1)\n",
    "plt.scatter(wave[mask_k][8000], flux_scale[mask_k][8000], s=50, label='K Band', color='C3')\n",
    "plt.vlines(lines_vac, 0, 250, color='k', alpha=0.1, label='OH line')\n",
    "plt.xlabel('Wavelength ($\\mu$m)', fontsize=30)\n",
    "plt.ylabel('Relative Flux', fontsize=30)\n",
    "plt.tick_params(labelsize=30)\n",
    "plt.legend(fontsize=30)"
   ]
  },
  {
   "cell_type": "code",
   "execution_count": null,
   "id": "cc7141ba",
   "metadata": {},
   "outputs": [],
   "source": []
  }
 ],
 "metadata": {
  "kernelspec": {
   "display_name": "Python 3 (ipykernel)",
   "language": "python",
   "name": "python3"
  },
  "language_info": {
   "codemirror_mode": {
    "name": "ipython",
    "version": 3
   },
   "file_extension": ".py",
   "mimetype": "text/x-python",
   "name": "python",
   "nbconvert_exporter": "python",
   "pygments_lexer": "ipython3",
   "version": "3.9.12"
  }
 },
 "nbformat": 4,
 "nbformat_minor": 5
}
