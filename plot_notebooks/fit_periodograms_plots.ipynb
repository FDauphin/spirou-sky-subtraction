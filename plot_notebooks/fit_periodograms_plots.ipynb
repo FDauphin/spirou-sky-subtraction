{
 "cells": [
  {
   "cell_type": "markdown",
   "id": "6cc08a1f",
   "metadata": {},
   "source": [
    "## Imports"
   ]
  },
  {
   "cell_type": "code",
   "execution_count": null,
   "id": "29ce5973",
   "metadata": {},
   "outputs": [],
   "source": [
    "from tqdm import tqdm\n",
    "\n",
    "import numpy as np\n",
    "from matplotlib import pyplot as plt\n",
    "import pandas as pd\n",
    "from scipy.stats import sigmaclip, spearmanr\n",
    "from scipy.signal import argrelextrema\n",
    "from scipy.stats import median_abs_deviation\n",
    "\n",
    "from astropy.timeseries import LombScargle\n",
    "from astropy.convolution import Gaussian1DKernel, convolve"
   ]
  },
  {
   "cell_type": "markdown",
   "id": "5be4c110",
   "metadata": {},
   "source": [
    "## Load Data"
   ]
  },
  {
   "cell_type": "code",
   "execution_count": null,
   "id": "2f97da47",
   "metadata": {},
   "outputs": [],
   "source": [
    "results_path = '../results'\n",
    "df1 = pd.read_csv(f'{results_path}/lines_norm_lsp_1.csv', index_col=0)\n",
    "df2 = pd.read_csv(f'{results_path}/lines_norm_lsp_2.csv', index_col=0)"
   ]
  },
  {
   "cell_type": "markdown",
   "id": "356594f8",
   "metadata": {},
   "source": [
    "## Calculate Stats"
   ]
  },
  {
   "cell_type": "code",
   "execution_count": null,
   "id": "45b8ec83",
   "metadata": {},
   "outputs": [],
   "source": [
    "for i in range (5):\n",
    "    period = 1/df1[f'f{i+1}'][(df1[f'f{i+1}']<250)&(df1[f'f{i+1}']>0.003)]\n",
    "    print (np.nanmean(period), np.nanstd(period))"
   ]
  },
  {
   "cell_type": "code",
   "execution_count": null,
   "id": "dcbf16a0",
   "metadata": {},
   "outputs": [],
   "source": [
    "for i in range (5):\n",
    "    period = 1/df2[f'f{i+1}'][(df2[f'f{i+1}']<250)&(df2[f'f{i+1}']>0.003)]\n",
    "    print (period.mean(), period.std())"
   ]
  },
  {
   "cell_type": "code",
   "execution_count": null,
   "id": "34943aa8",
   "metadata": {},
   "outputs": [],
   "source": [
    "print (df1['mse'].mean(), df1['mse'].std())\n",
    "print (df2['mse'].mean(), df2['mse'].std())"
   ]
  },
  {
   "cell_type": "code",
   "execution_count": null,
   "id": "caf62d96",
   "metadata": {},
   "outputs": [],
   "source": [
    "print (df1['pearson'].mean(), df1['pearson'].std())\n",
    "print (df2['pearson'].mean(), df2['pearson'].std())"
   ]
  },
  {
   "cell_type": "markdown",
   "id": "19b1ea9e",
   "metadata": {},
   "source": [
    "## Plot Phase Space"
   ]
  },
  {
   "cell_type": "code",
   "execution_count": null,
   "id": "a01e7f12",
   "metadata": {},
   "outputs": [],
   "source": [
    "df = df1\n",
    "f = []\n",
    "p = []\n",
    "c = []\n",
    "rank = []\n",
    "error = []\n",
    "mse = []\n",
    "pearson = []\n",
    "spearman = []\n",
    "for i in range (5):\n",
    "    f.append(df[f'f{i+1}'].values)\n",
    "    p.append(df[f'p{i+1}'].values)\n",
    "    c.append(df.index.values.astype(float)/10000)\n",
    "    rank.append(np.ones(df.shape[0])*i)\n",
    "    error.append(df['error'].values)\n",
    "    mse.append(df['mse'].values)\n",
    "    pearson.append(df['pearson'].values)\n",
    "    spearman.append(df['spearman'].values)\n",
    "f = np.concatenate(f)\n",
    "p = np.concatenate(p)\n",
    "c = np.concatenate(c)\n",
    "rank = np.concatenate(rank)\n",
    "error = np.concatenate(error)\n",
    "mse = np.concatenate(mse)\n",
    "pearson = np.concatenate(pearson)\n",
    "spearman = np.concatenate(spearman)"
   ]
  },
  {
   "cell_type": "markdown",
   "id": "21c0a7fb",
   "metadata": {},
   "source": [
    "**Change c in plt.scatter to rank, error, mse, pearson, or spearman to see different distributions**"
   ]
  },
  {
   "cell_type": "code",
   "execution_count": null,
   "id": "65383861",
   "metadata": {},
   "outputs": [],
   "source": [
    "fs = 20\n",
    "plt.figure(figsize=[10,10])\n",
    "plt.title('LSP: Period - Power Phase Space', fontsize=20)\n",
    "plt.scatter(1/f, p, c=rank, s=5, alpha=0.5, cmap='viridis')\n",
    "plt.xscale('log')\n",
    "cbar = plt.colorbar()\n",
    "cbar.ax.tick_params(labelsize=fs)\n",
    "plt.tick_params(labelsize=fs)\n",
    "plt.xlabel('Period (days)', fontsize=fs)\n",
    "plt.ylabel('Relative Power', fontsize=fs)\n",
    "plt.xlim(1e-3, 10)\n",
    "plt.ylim(1e-10, 0.8)"
   ]
  },
  {
   "cell_type": "code",
   "execution_count": null,
   "id": "8244c580",
   "metadata": {},
   "outputs": [],
   "source": []
  }
 ],
 "metadata": {
  "kernelspec": {
   "display_name": "Python 3 (ipykernel)",
   "language": "python",
   "name": "python3"
  },
  "language_info": {
   "codemirror_mode": {
    "name": "ipython",
    "version": 3
   },
   "file_extension": ".py",
   "mimetype": "text/x-python",
   "name": "python",
   "nbconvert_exporter": "python",
   "pygments_lexer": "ipython3",
   "version": "3.9.12"
  }
 },
 "nbformat": 4,
 "nbformat_minor": 5
}
