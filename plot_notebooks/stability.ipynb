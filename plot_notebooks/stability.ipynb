{
 "cells": [
  {
   "cell_type": "markdown",
   "metadata": {},
   "source": [
    "## Imports"
   ]
  },
  {
   "cell_type": "code",
   "execution_count": null,
   "metadata": {},
   "outputs": [],
   "source": [
    "import os\n",
    "from glob import glob\n",
    "from tqdm import tqdm\n",
    "\n",
    "import numpy as np\n",
    "from matplotlib import pyplot as plt\n",
    "import pandas as pd\n",
    "from scipy.stats import median_abs_deviation\n",
    "\n",
    "from astropy.timeseries import LombScargle\n",
    "%matplotlib inline"
   ]
  },
  {
   "cell_type": "code",
   "execution_count": null,
   "metadata": {},
   "outputs": [],
   "source": [
    "plt.rcParams.update({'font.size': 20})"
   ]
  },
  {
   "cell_type": "markdown",
   "metadata": {},
   "source": [
    "## Load Lines and Data"
   ]
  },
  {
   "cell_type": "code",
   "execution_count": null,
   "metadata": {},
   "outputs": [],
   "source": [
    "data_path = '../data'\n",
    "lines_vac, lines_air = np.loadtxt(f'{data_path}/hydroxyl_lines_rousselot_2000.txt').T"
   ]
  },
  {
   "cell_type": "code",
   "execution_count": null,
   "metadata": {
    "scrolled": true
   },
   "outputs": [],
   "source": [
    "results_path = '../results'\n",
    "df = pd.read_csv(f'{results_path}/lines_norm_gdl_fit.csv', index_col=0)\n",
    "columns = df.columns"
   ]
  },
  {
   "cell_type": "code",
   "execution_count": null,
   "metadata": {},
   "outputs": [],
   "source": [
    "time_centered = df['spec_mjd'] - int(df['spec_mjd'].min())"
   ]
  },
  {
   "cell_type": "code",
   "execution_count": null,
   "metadata": {},
   "outputs": [],
   "source": [
    "mask1_1 = (time_centered > 504) & (time_centered < 504.5)\n",
    "mask1_2 = (time_centered > 504.58) & (time_centered < 505.515)\n",
    "mask1_3 = (time_centered > 505.58) & (time_centered < 506.578)\n",
    "mask1_4 = (time_centered > 506.61) & (time_centered < 507)\n",
    "mask1 = mask1_1 | mask1_2 | mask1_3 | mask1_4\n",
    "mask2 = (time_centered > 543) & (time_centered < 547)"
   ]
  },
  {
   "cell_type": "code",
   "execution_count": null,
   "metadata": {},
   "outputs": [],
   "source": [
    "df_col_line_sum = [f'{line}_sum' for line in lines_vac]"
   ]
  },
  {
   "cell_type": "code",
   "execution_count": null,
   "metadata": {},
   "outputs": [],
   "source": [
    "df_line_sums = df[df_col_line_sum][mask1]"
   ]
  },
  {
   "cell_type": "code",
   "execution_count": null,
   "metadata": {},
   "outputs": [],
   "source": [
    "time_centered_mask1 = time_centered[mask1].values\n",
    "flux_median_mask1 = df_line_sums.median(axis=1).values"
   ]
  },
  {
   "cell_type": "code",
   "execution_count": null,
   "metadata": {},
   "outputs": [],
   "source": [
    "fs = 45\n",
    "plt.figure(figsize=[30,10])\n",
    "plt.grid(linewidth=2)\n",
    "plt.title('SPIRou Sky: Total Flux Contribution (Event 1; Median)', fontsize=fs)\n",
    "plt.scatter(time_centered_mask1, flux_median_mask1, color='C5', alpha=0.5, label='5 minute cadence')\n",
    "plt.scatter(time_centered_mask1[::5], flux_median_mask1[::5], color='C9', label='25 minute cadence')\n",
    "plt.xlabel('Days from First Observation ($MJD_0$=58327)', fontsize=fs)\n",
    "plt.ylabel('Relative Flux', fontsize=fs)\n",
    "plt.tick_params(labelsize=fs)\n",
    "plt.legend(fontsize=fs)"
   ]
  },
  {
   "cell_type": "markdown",
   "metadata": {},
   "source": [
    "## LSP"
   ]
  },
  {
   "cell_type": "code",
   "execution_count": null,
   "metadata": {},
   "outputs": [],
   "source": [
    "min_freq = 1 / 365\n",
    "max_freq = 10 * 24"
   ]
  },
  {
   "cell_type": "markdown",
   "metadata": {},
   "source": [
    "**For each iteration, remove up to half the data points from the median flux time series, perform LSP, and record the most dominant period.**"
   ]
  },
  {
   "cell_type": "code",
   "execution_count": null,
   "metadata": {},
   "outputs": [],
   "source": [
    "lst_periods = []\n",
    "length_arrays = []\n",
    "for i in tqdm(range(10000)):\n",
    "    remove_ind = np.random.randint(0, flux_median_mask1.shape[0], flux_median_mask1.shape[0]//2)\n",
    "    t_use = np.delete(time_centered_mask1, remove_ind)\n",
    "    y_use = np.delete(flux_median_mask1, remove_ind)\n",
    "    length_arrays.append(y_use.shape[0])\n",
    "    frequency, power = LombScargle(t_use, y_use).autopower(minimum_frequency=min_freq, maximum_frequency=max_freq)\n",
    "    p = 1/frequency[np.argmax(power)]\n",
    "    lst_periods.append(p)\n",
    "lst_periods = np.array(lst_periods)\n",
    "length_arrays = np.array(length_arrays)"
   ]
  },
  {
   "cell_type": "code",
   "execution_count": null,
   "metadata": {},
   "outputs": [],
   "source": [
    "plt.hist(lst_periods, bins=100)\n",
    "np.mean(lst_periods), np.median(lst_periods)\n",
    "plt.xlabel('Period (days)')\n",
    "plt.yscale('log')"
   ]
  },
  {
   "cell_type": "code",
   "execution_count": null,
   "metadata": {},
   "outputs": [],
   "source": [
    "true_period = np.median(lst_periods)"
   ]
  },
  {
   "cell_type": "code",
   "execution_count": null,
   "metadata": {},
   "outputs": [],
   "source": [
    "plt.hist(length_arrays, bins=20)\n",
    "plt.xlabel('Number of data points')\n",
    "plt.show()"
   ]
  },
  {
   "cell_type": "markdown",
   "metadata": {},
   "source": [
    "**Find the period's relative error between using a different cadence.**"
   ]
  },
  {
   "cell_type": "code",
   "execution_count": null,
   "metadata": {},
   "outputs": [],
   "source": [
    "frequency, power = LombScargle(time_centered_mask1, flux_median_mask1).autopower(minimum_frequency=min_freq, maximum_frequency=max_freq)"
   ]
  },
  {
   "cell_type": "code",
   "execution_count": null,
   "metadata": {},
   "outputs": [],
   "source": [
    "f = frequency[np.argmax(power)]\n",
    "f"
   ]
  },
  {
   "cell_type": "code",
   "execution_count": null,
   "metadata": {},
   "outputs": [],
   "source": [
    "period_true = 1/f"
   ]
  },
  {
   "cell_type": "code",
   "execution_count": null,
   "metadata": {},
   "outputs": [],
   "source": [
    "period_true"
   ]
  },
  {
   "cell_type": "code",
   "execution_count": null,
   "metadata": {},
   "outputs": [],
   "source": [
    "frequency, power = LombScargle(time_centered_mask1[::5], flux_median_mask1[::5]).autopower(minimum_frequency=min_freq, maximum_frequency=max_freq)"
   ]
  },
  {
   "cell_type": "code",
   "execution_count": null,
   "metadata": {},
   "outputs": [],
   "source": [
    "period_25 = 1 / frequency[np.argmax(power)]"
   ]
  },
  {
   "cell_type": "code",
   "execution_count": null,
   "metadata": {},
   "outputs": [],
   "source": [
    "period_25"
   ]
  },
  {
   "cell_type": "code",
   "execution_count": null,
   "metadata": {},
   "outputs": [],
   "source": [
    "np.abs(period_25 - period_true) / period_true * 100"
   ]
  },
  {
   "cell_type": "code",
   "execution_count": null,
   "metadata": {},
   "outputs": [],
   "source": [
    "plt.figure(figsize=[10,5])\n",
    "plt.scatter((time_centered_mask1%period_25)/period_25, flux_median_mask1, s=1)\n",
    "plt.xlabel('Phase')\n",
    "plt.ylabel('Relative Flux')\n",
    "plt.title('Phase folding on Event')"
   ]
  },
  {
   "cell_type": "markdown",
   "metadata": {},
   "source": [
    "**For each iteration, remove an increasing number of data points (i.e. first remove 0 data points, then 1, then 2, etc.) 100 times and record the mean/median of the most dominant period.**"
   ]
  },
  {
   "cell_type": "code",
   "execution_count": null,
   "metadata": {},
   "outputs": [],
   "source": [
    "lst_period_stats = []\n",
    "for i in tqdm(range(flux_median_mask1.shape[0])):\n",
    "    lst_period_stats_j = []\n",
    "    for j in range (100):\n",
    "        remove_ind = np.random.choice(flux_median_mask1.shape[0], i, replace=False)\n",
    "        t_use = np.delete(time_centered_mask1, remove_ind)\n",
    "        y_use = np.delete(flux_median_mask1, remove_ind)\n",
    "        frequency, power = LombScargle(t_use, y_use).autopower(minimum_frequency=min_freq, maximum_frequency=max_freq)\n",
    "        p = 1/frequency[np.argmax(power)]\n",
    "        lst_period_stats_j.append(p)\n",
    "    lst_period_stats_i = [np.mean(np.sort(lst_period_stats_j)[10:90]), \n",
    "                          np.median(lst_period_stats_j), \n",
    "                          np.nanstd(np.sort(lst_period_stats_j)[10:90]), \n",
    "                          median_abs_deviation(lst_period_stats_j)]\n",
    "    lst_period_stats.append(lst_period_stats_i)\n",
    "lst_period_stats = np.array(lst_period_stats)"
   ]
  },
  {
   "cell_type": "code",
   "execution_count": null,
   "metadata": {},
   "outputs": [],
   "source": [
    "percentage = 1 - (np.arange(flux_median_mask1.shape[0]) / flux_median_mask1.shape[0])"
   ]
  },
  {
   "cell_type": "code",
   "execution_count": null,
   "metadata": {},
   "outputs": [],
   "source": [
    "plt.figure(figsize=[30,10])\n",
    "plt.errorbar(percentage, lst_period_stats[:, 0], lst_period_stats[:, 2], fmt='o')\n",
    "plt.hlines(period_true, -0.1, 1.1, color='C1')\n",
    "plt.title('LSP Stability', fontsize=30)\n",
    "plt.xlabel('Percentage of Data Kept')\n",
    "plt.ylabel('')\n",
    "plt.yscale('log')"
   ]
  },
  {
   "cell_type": "code",
   "execution_count": null,
   "metadata": {},
   "outputs": [],
   "source": [
    "fs=45\n",
    "plt.figure(figsize=[30,10])\n",
    "plt.grid(linewidth=2)\n",
    "plt.errorbar(percentage*100, lst_period_stats[:, 1], lst_period_stats[:, 3], fmt='o', label='experiment')\n",
    "plt.hlines(period_true, -10, 110, color='C1', label='true period')\n",
    "plt.title('SPIRou Sky: LSP Stability (Event 1)', fontsize=fs)\n",
    "plt.xlabel('Percentage of Data Kept', fontsize=fs)\n",
    "plt.ylabel('Median Period in Days \\n(100 experiments)', fontsize=fs)\n",
    "plt.legend(fontsize=fs)\n",
    "plt.tick_params(labelsize=fs)"
   ]
  },
  {
   "cell_type": "code",
   "execution_count": null,
   "metadata": {},
   "outputs": [],
   "source": []
  }
 ],
 "metadata": {
  "kernelspec": {
   "display_name": "Python 3 (ipykernel)",
   "language": "python",
   "name": "python3"
  },
  "language_info": {
   "codemirror_mode": {
    "name": "ipython",
    "version": 3
   },
   "file_extension": ".py",
   "mimetype": "text/x-python",
   "name": "python",
   "nbconvert_exporter": "python",
   "pygments_lexer": "ipython3",
   "version": "3.9.12"
  }
 },
 "nbformat": 4,
 "nbformat_minor": 2
}
